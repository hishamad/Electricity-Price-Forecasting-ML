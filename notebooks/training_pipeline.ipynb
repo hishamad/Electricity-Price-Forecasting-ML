{
 "cells": [
  {
   "cell_type": "code",
   "execution_count": 1,
   "metadata": {},
   "outputs": [
    {
     "ename": "ModuleNotFoundError",
     "evalue": "No module named 'nn'",
     "output_type": "error",
     "traceback": [
      "\u001b[1;31m---------------------------------------------------------------------------\u001b[0m",
      "\u001b[1;31mModuleNotFoundError\u001b[0m                       Traceback (most recent call last)",
      "Cell \u001b[1;32mIn[1], line 15\u001b[0m\n\u001b[0;32m     13\u001b[0m sys\u001b[38;5;241m.\u001b[39mpath\u001b[38;5;241m.\u001b[39mappend(os\u001b[38;5;241m.\u001b[39mpath\u001b[38;5;241m.\u001b[39mabspath(os\u001b[38;5;241m.\u001b[39mpath\u001b[38;5;241m.\u001b[39mjoin(\u001b[38;5;124m'\u001b[39m\u001b[38;5;124m..\u001b[39m\u001b[38;5;124m'\u001b[39m, \u001b[38;5;124m'\u001b[39m\u001b[38;5;124mfunctions\u001b[39m\u001b[38;5;124m'\u001b[39m)))\n\u001b[0;32m     14\u001b[0m \u001b[38;5;28;01mimport\u001b[39;00m \u001b[38;5;21;01mutil\u001b[39;00m\n\u001b[1;32m---> 15\u001b[0m \u001b[38;5;28;01mimport\u001b[39;00m \u001b[38;5;21;01mnn\u001b[39;00m\n\u001b[0;32m     16\u001b[0m \u001b[38;5;28;01mimport\u001b[39;00m \u001b[38;5;21;01mtorch\u001b[39;00m\n\u001b[0;32m     18\u001b[0m warnings\u001b[38;5;241m.\u001b[39mfilterwarnings(\u001b[38;5;124m\"\u001b[39m\u001b[38;5;124mignore\u001b[39m\u001b[38;5;124m\"\u001b[39m)\n",
      "\u001b[1;31mModuleNotFoundError\u001b[0m: No module named 'nn'"
     ]
    }
   ],
   "source": [
    "import requests\n",
    "import pandas as pd\n",
    "import hopsworks\n",
    "import datetime\n",
    "import matplotlib.pyplot as plt\n",
    "import json\n",
    "import re\n",
    "import os\n",
    "import sys\n",
    "from dotenv import load_dotenv\n",
    "from datetime import datetime, timedelta\n",
    "import warnings\n",
    "sys.path.append(os.path.abspath(os.path.join('..', 'functions')))\n",
    "import util\n",
    "sys.path.append(os.path.abspath(os.path.join('..', 'models')))\n",
    "import nn\n",
    "import torch\n",
    "\n",
    "warnings.filterwarnings(\"ignore\")"
   ]
  },
  {
   "cell_type": "code",
   "execution_count": null,
   "metadata": {},
   "outputs": [],
   "source": [
    "load_dotenv()\n",
    "proj = hopsworks.login()\n",
    "fs = proj.get_feature_store() "
   ]
  },
  {
   "cell_type": "code",
   "execution_count": null,
   "metadata": {},
   "outputs": [],
   "source": [
    "el_prices_fg = fs.get_feature_group(\n",
    "    name='el_prices',\n",
    "    version=1,\n",
    ")\n",
    "weather_fg = fs.get_feature_group(\n",
    "    name='weather',\n",
    "    version=1,\n",
    ")\n",
    "power_fg = fs.get_feature_group(\n",
    "    name='power',\n",
    "    version=1,\n",
    ")"
   ]
  },
  {
   "cell_type": "code",
   "execution_count": null,
   "metadata": {},
   "outputs": [],
   "source": [
    "el_prices_fg.show(10)"
   ]
  },
  {
   "cell_type": "code",
   "execution_count": null,
   "metadata": {},
   "outputs": [],
   "source": [
    "input_features = [\n",
    "        \"date\", \"temperature_2m_mean\", \"precipitation_sum\", \"wind_speed_10m_max\",\n",
    "        \"wind_direction_10m_dominant\", \"sunshine_duration\",\n",
    "        \"Hydro Water Reservoir\", \"Nuclear\", \"Other\", \"Wind Onshore\"\n",
    "]\n",
    "input_size = len(input_features)\n",
    "model = nn.EnergyPricePredictorLSTM(input_size=input_size)\n"
   ]
  },
  {
   "cell_type": "code",
   "execution_count": null,
   "metadata": {},
   "outputs": [],
   "source": [
    "all_data = 1 #placeholder\n",
    "all_data = all_data.values\n",
    "\n",
    "start_date = \"2022-11-01\"\n",
    "end_date = \"2024-12-22\"\n",
    "\n",
    "inputs, outputs = util.create_time_series(all_data)\n",
    "#Split 70/15/15\n",
    "num_samples = inputs.shape[0]\n",
    "train_size = int(0.7 * num_samples)\n",
    "val_size = int(0.15 * num_samples)\n",
    "\n",
    "train_inputs = inputs[:train_size]\n",
    "train_outputs = outputs[:train_size]\n",
    "\n",
    "val_inputs = inputs[train_size : train_size + val_size]\n",
    "val_outputs = outputs[train_size : train_size + val_size]\n",
    "\n",
    "test_inputs = inputs[train_size + val_size :]\n",
    "test_outputs = outputs[train_size + val_size :]\n",
    "\n",
    "\n",
    "#Tensors\n",
    "\n",
    "train_data = torch.tensor(train_inputs, dtype=torch.float32)\n",
    "train_labels = torch.tensor(train_outputs, dtype=torch.float32)\n",
    "validation_data = torch.tensor(val_inputs, dtype=torch.float32)\n",
    "validation_labels = torch.tensor(val_outputs, dtype=torch.float32)\n",
    "test_data = torch.tensor(test_inputs, dtype=torch.float32)\n",
    "test_labels = torch.tensor(test_outputs, dtype=torch.float32)\n",
    "\n",
    "\n"
   ]
  },
  {
   "cell_type": "code",
   "execution_count": null,
   "metadata": {},
   "outputs": [],
   "source": [
    "model.train_model(train_inputs, train_outputs, val_inputs, val_outputs)"
   ]
  },
  {
   "cell_type": "code",
   "execution_count": null,
   "metadata": {},
   "outputs": [],
   "source": [
    "predictions, mse = model.test_model(test_data, test_labels)\n",
    "model.plot_predictions(predictions, test_labels)"
   ]
  }
 ],
 "metadata": {
  "kernelspec": {
   "display_name": "Python 3",
   "language": "python",
   "name": "python3"
  },
  "language_info": {
   "codemirror_mode": {
    "name": "ipython",
    "version": 3
   },
   "file_extension": ".py",
   "mimetype": "text/x-python",
   "name": "python",
   "nbconvert_exporter": "python",
   "pygments_lexer": "ipython3",
   "version": "3.11.2"
  }
 },
 "nbformat": 4,
 "nbformat_minor": 2
}
