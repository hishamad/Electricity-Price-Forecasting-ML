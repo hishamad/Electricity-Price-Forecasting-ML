{
 "cells": [
  {
   "cell_type": "code",
   "execution_count": 2,
   "metadata": {},
   "outputs": [],
   "source": [
    "import requests\n",
    "import pandas as pd\n",
    "import hopsworks\n",
    "import datetime\n",
    "import matplotlib.pyplot as plt\n",
    "import json\n",
    "import re\n",
    "import os\n",
    "import sys\n",
    "from dotenv import load_dotenv\n",
    "from datetime import datetime, timedelta\n",
    "import warnings\n",
    "sys.path.append(os.path.abspath(os.path.join('..', 'functions')))\n",
    "import util\n",
    "sys.path.append(os.path.abspath(os.path.join('..', 'model')))\n",
    "import nn\n",
    "import torch\n",
    "from sklearn.preprocessing import Normalizer\n",
    "from sklearn.model_selection import train_test_split\n",
    "\n",
    "\n",
    "warnings.filterwarnings(\"ignore\")"
   ]
  },
  {
   "cell_type": "code",
   "execution_count": 3,
   "metadata": {},
   "outputs": [
    {
     "name": "stdout",
     "output_type": "stream",
     "text": [
      "2024-12-30 17:06:42,911 INFO: Initializing external client\n",
      "2024-12-30 17:06:42,911 INFO: Base URL: https://c.app.hopsworks.ai:443\n",
      "2024-12-30 17:06:46,550 INFO: Python Engine initialized.\n",
      "\n",
      "Logged in to project, explore it here https://c.app.hopsworks.ai:443/p/1164449\n"
     ]
    }
   ],
   "source": [
    "load_dotenv()\n",
    "proj = hopsworks.login()\n",
    "fs = proj.get_feature_store(\"KTH_ID2223\") "
   ]
  },
  {
   "cell_type": "code",
   "execution_count": 4,
   "metadata": {},
   "outputs": [],
   "source": [
    "el_prices_fg = fs.get_feature_group(\n",
    "    name='el_prices',\n",
    "    version=1,\n",
    ")\n",
    "weather_fg = fs.get_feature_group(\n",
    "    name='weather',\n",
    "    version=1,\n",
    ")\n",
    "power_fg = fs.get_feature_group(\n",
    "    name='power',\n",
    "    version=1,\n",
    ")"
   ]
  },
  {
   "cell_type": "code",
   "execution_count": 491,
   "metadata": {},
   "outputs": [
    {
     "name": "stdout",
     "output_type": "stream",
     "text": [
      "Finished: Reading data from Hopsworks, using Hopsworks Feature Query Service (1.08s) \n"
     ]
    },
    {
     "data": {
      "text/html": [
       "<div>\n",
       "<style scoped>\n",
       "    .dataframe tbody tr th:only-of-type {\n",
       "        vertical-align: middle;\n",
       "    }\n",
       "\n",
       "    .dataframe tbody tr th {\n",
       "        vertical-align: top;\n",
       "    }\n",
       "\n",
       "    .dataframe thead th {\n",
       "        text-align: right;\n",
       "    }\n",
       "</style>\n",
       "<table border=\"1\" class=\"dataframe\">\n",
       "  <thead>\n",
       "    <tr style=\"text-align: right;\">\n",
       "      <th></th>\n",
       "      <th>date</th>\n",
       "      <th>price</th>\n",
       "    </tr>\n",
       "  </thead>\n",
       "  <tbody>\n",
       "    <tr>\n",
       "      <th>0</th>\n",
       "      <td>2023-01-23 00:00:00+00:00</td>\n",
       "      <td>1.662196</td>\n",
       "    </tr>\n",
       "    <tr>\n",
       "      <th>1</th>\n",
       "      <td>2023-12-20 00:00:00+00:00</td>\n",
       "      <td>0.535002</td>\n",
       "    </tr>\n",
       "    <tr>\n",
       "      <th>2</th>\n",
       "      <td>2023-05-27 00:00:00+00:00</td>\n",
       "      <td>0.064113</td>\n",
       "    </tr>\n",
       "    <tr>\n",
       "      <th>3</th>\n",
       "      <td>2023-03-15 00:00:00+00:00</td>\n",
       "      <td>0.975358</td>\n",
       "    </tr>\n",
       "    <tr>\n",
       "      <th>4</th>\n",
       "      <td>2022-11-01 00:00:00+00:00</td>\n",
       "      <td>0.655705</td>\n",
       "    </tr>\n",
       "    <tr>\n",
       "      <th>5</th>\n",
       "      <td>2023-07-27 00:00:00+00:00</td>\n",
       "      <td>0.381928</td>\n",
       "    </tr>\n",
       "    <tr>\n",
       "      <th>6</th>\n",
       "      <td>2023-01-26 00:00:00+00:00</td>\n",
       "      <td>1.101363</td>\n",
       "    </tr>\n",
       "    <tr>\n",
       "      <th>7</th>\n",
       "      <td>2024-06-02 00:00:00+00:00</td>\n",
       "      <td>0.097737</td>\n",
       "    </tr>\n",
       "    <tr>\n",
       "      <th>8</th>\n",
       "      <td>2023-03-22 00:00:00+00:00</td>\n",
       "      <td>0.488279</td>\n",
       "    </tr>\n",
       "    <tr>\n",
       "      <th>9</th>\n",
       "      <td>2024-09-04 00:00:00+00:00</td>\n",
       "      <td>0.209347</td>\n",
       "    </tr>\n",
       "  </tbody>\n",
       "</table>\n",
       "</div>"
      ],
      "text/plain": [
       "                       date     price\n",
       "0 2023-01-23 00:00:00+00:00  1.662196\n",
       "1 2023-12-20 00:00:00+00:00  0.535002\n",
       "2 2023-05-27 00:00:00+00:00  0.064113\n",
       "3 2023-03-15 00:00:00+00:00  0.975358\n",
       "4 2022-11-01 00:00:00+00:00  0.655705\n",
       "5 2023-07-27 00:00:00+00:00  0.381928\n",
       "6 2023-01-26 00:00:00+00:00  1.101363\n",
       "7 2024-06-02 00:00:00+00:00  0.097737\n",
       "8 2023-03-22 00:00:00+00:00  0.488279\n",
       "9 2024-09-04 00:00:00+00:00  0.209347"
      ]
     },
     "execution_count": 491,
     "metadata": {},
     "output_type": "execute_result"
    }
   ],
   "source": [
    "el_prices_fg.show(10)\n",
    "# weather_fg.show(10)\n",
    "# power_fg.show(10)"
   ]
  },
  {
   "cell_type": "code",
   "execution_count": 5,
   "metadata": {},
   "outputs": [
    {
     "name": "stdout",
     "output_type": "stream",
     "text": [
      "Finished: Reading data from Hopsworks, using Hopsworks Feature Query Service (0.63s) \n",
      "Finished: Reading data from Hopsworks, using Hopsworks Feature Query Service (0.61s) \n",
      "Finished: Reading data from Hopsworks, using Hopsworks Feature Query Service (0.59s) \n"
     ]
    }
   ],
   "source": [
    "weather_df = weather_fg.read()\n",
    "power_df = power_fg.read()\n",
    "el_prices_df = el_prices_fg.read()"
   ]
  },
  {
   "cell_type": "code",
   "execution_count": 6,
   "metadata": {},
   "outputs": [],
   "source": [
    "merged_df = (\n",
    "    weather_df\n",
    "    .merge(power_df, on=\"date\", how=\"inner\")\n",
    "    .merge(el_prices_df, on=\"date\", how=\"inner\")\n",
    ")\n",
    "\n",
    "merged_df['date'] = pd.to_datetime(merged_df['date'])\n",
    "merged_df = merged_df.sort_values(by=\"date\").reset_index(drop=True)\n",
    "\n",
    "dates = merged_df['date']\n",
    "features = merged_df.drop(columns=['date', 'price']).iloc[:-1]\n",
    "target = merged_df['price'].iloc[1:]\n",
    "normalizer = Normalizer()\n",
    "normalized_continuous_features = normalizer.fit_transform(features)\n",
    "normalized_features_df = pd.DataFrame(normalized_continuous_features, columns=features.columns)"
   ]
  },
  {
   "cell_type": "code",
   "execution_count": 7,
   "metadata": {},
   "outputs": [
    {
     "data": {
      "text/html": [
       "<div>\n",
       "<style scoped>\n",
       "    .dataframe tbody tr th:only-of-type {\n",
       "        vertical-align: middle;\n",
       "    }\n",
       "\n",
       "    .dataframe tbody tr th {\n",
       "        vertical-align: top;\n",
       "    }\n",
       "\n",
       "    .dataframe thead th {\n",
       "        text-align: right;\n",
       "    }\n",
       "</style>\n",
       "<table border=\"1\" class=\"dataframe\">\n",
       "  <thead>\n",
       "    <tr style=\"text-align: right;\">\n",
       "      <th></th>\n",
       "      <th>temperature_2m_mean</th>\n",
       "      <th>precipitation_sum</th>\n",
       "      <th>wind_speed_10m_max</th>\n",
       "      <th>wind_direction_10m_dominant</th>\n",
       "      <th>sunshine_duration</th>\n",
       "      <th>hydro_mw</th>\n",
       "      <th>nuclear_mw</th>\n",
       "      <th>other_mw</th>\n",
       "      <th>wind_mw</th>\n",
       "    </tr>\n",
       "  </thead>\n",
       "  <tbody>\n",
       "    <tr>\n",
       "      <th>0</th>\n",
       "      <td>0.000806</td>\n",
       "      <td>0.000110</td>\n",
       "      <td>0.001211</td>\n",
       "      <td>0.019292</td>\n",
       "      <td>0.000000</td>\n",
       "      <td>0.807575</td>\n",
       "      <td>0.522701</td>\n",
       "      <td>0.082356</td>\n",
       "      <td>0.259709</td>\n",
       "    </tr>\n",
       "    <tr>\n",
       "      <th>1</th>\n",
       "      <td>0.000430</td>\n",
       "      <td>0.000040</td>\n",
       "      <td>0.000594</td>\n",
       "      <td>0.008403</td>\n",
       "      <td>0.877442</td>\n",
       "      <td>0.357346</td>\n",
       "      <td>0.254733</td>\n",
       "      <td>0.040314</td>\n",
       "      <td>0.189246</td>\n",
       "    </tr>\n",
       "    <tr>\n",
       "      <th>2</th>\n",
       "      <td>0.000292</td>\n",
       "      <td>0.000000</td>\n",
       "      <td>0.000538</td>\n",
       "      <td>0.007029</td>\n",
       "      <td>0.917855</td>\n",
       "      <td>0.288438</td>\n",
       "      <td>0.207158</td>\n",
       "      <td>0.034096</td>\n",
       "      <td>0.173835</td>\n",
       "    </tr>\n",
       "    <tr>\n",
       "      <th>3</th>\n",
       "      <td>0.000338</td>\n",
       "      <td>0.000000</td>\n",
       "      <td>0.000867</td>\n",
       "      <td>0.005856</td>\n",
       "      <td>0.905648</td>\n",
       "      <td>0.273211</td>\n",
       "      <td>0.228957</td>\n",
       "      <td>0.035613</td>\n",
       "      <td>0.226786</td>\n",
       "    </tr>\n",
       "    <tr>\n",
       "      <th>4</th>\n",
       "      <td>0.000726</td>\n",
       "      <td>0.000522</td>\n",
       "      <td>0.001808</td>\n",
       "      <td>0.014766</td>\n",
       "      <td>0.000000</td>\n",
       "      <td>0.630715</td>\n",
       "      <td>0.531639</td>\n",
       "      <td>0.072164</td>\n",
       "      <td>0.560472</td>\n",
       "    </tr>\n",
       "    <tr>\n",
       "      <th>...</th>\n",
       "      <td>...</td>\n",
       "      <td>...</td>\n",
       "      <td>...</td>\n",
       "      <td>...</td>\n",
       "      <td>...</td>\n",
       "      <td>...</td>\n",
       "      <td>...</td>\n",
       "      <td>...</td>\n",
       "      <td>...</td>\n",
       "    </tr>\n",
       "    <tr>\n",
       "      <th>775</th>\n",
       "      <td>-0.000047</td>\n",
       "      <td>0.000126</td>\n",
       "      <td>0.002167</td>\n",
       "      <td>0.021913</td>\n",
       "      <td>0.000000</td>\n",
       "      <td>0.638038</td>\n",
       "      <td>0.459011</td>\n",
       "      <td>0.046921</td>\n",
       "      <td>0.616060</td>\n",
       "    </tr>\n",
       "    <tr>\n",
       "      <th>776</th>\n",
       "      <td>0.000180</td>\n",
       "      <td>0.000077</td>\n",
       "      <td>0.001704</td>\n",
       "      <td>0.014277</td>\n",
       "      <td>0.695744</td>\n",
       "      <td>0.358687</td>\n",
       "      <td>0.299630</td>\n",
       "      <td>0.031855</td>\n",
       "      <td>0.544321</td>\n",
       "    </tr>\n",
       "    <tr>\n",
       "      <th>777</th>\n",
       "      <td>0.000054</td>\n",
       "      <td>0.000000</td>\n",
       "      <td>0.001275</td>\n",
       "      <td>0.015362</td>\n",
       "      <td>0.723997</td>\n",
       "      <td>0.431470</td>\n",
       "      <td>0.313577</td>\n",
       "      <td>0.045410</td>\n",
       "      <td>0.434778</td>\n",
       "    </tr>\n",
       "    <tr>\n",
       "      <th>778</th>\n",
       "      <td>0.000095</td>\n",
       "      <td>0.000404</td>\n",
       "      <td>0.001726</td>\n",
       "      <td>0.014557</td>\n",
       "      <td>0.000000</td>\n",
       "      <td>0.676140</td>\n",
       "      <td>0.452456</td>\n",
       "      <td>0.056168</td>\n",
       "      <td>0.578575</td>\n",
       "    </tr>\n",
       "    <tr>\n",
       "      <th>779</th>\n",
       "      <td>0.000341</td>\n",
       "      <td>0.000171</td>\n",
       "      <td>0.001958</td>\n",
       "      <td>0.019208</td>\n",
       "      <td>0.119608</td>\n",
       "      <td>0.681771</td>\n",
       "      <td>0.473410</td>\n",
       "      <td>0.043136</td>\n",
       "      <td>0.542708</td>\n",
       "    </tr>\n",
       "  </tbody>\n",
       "</table>\n",
       "<p>780 rows × 9 columns</p>\n",
       "</div>"
      ],
      "text/plain": [
       "     temperature_2m_mean  precipitation_sum  wind_speed_10m_max  \\\n",
       "0               0.000806           0.000110            0.001211   \n",
       "1               0.000430           0.000040            0.000594   \n",
       "2               0.000292           0.000000            0.000538   \n",
       "3               0.000338           0.000000            0.000867   \n",
       "4               0.000726           0.000522            0.001808   \n",
       "..                   ...                ...                 ...   \n",
       "775            -0.000047           0.000126            0.002167   \n",
       "776             0.000180           0.000077            0.001704   \n",
       "777             0.000054           0.000000            0.001275   \n",
       "778             0.000095           0.000404            0.001726   \n",
       "779             0.000341           0.000171            0.001958   \n",
       "\n",
       "     wind_direction_10m_dominant  sunshine_duration  hydro_mw  nuclear_mw  \\\n",
       "0                       0.019292           0.000000  0.807575    0.522701   \n",
       "1                       0.008403           0.877442  0.357346    0.254733   \n",
       "2                       0.007029           0.917855  0.288438    0.207158   \n",
       "3                       0.005856           0.905648  0.273211    0.228957   \n",
       "4                       0.014766           0.000000  0.630715    0.531639   \n",
       "..                           ...                ...       ...         ...   \n",
       "775                     0.021913           0.000000  0.638038    0.459011   \n",
       "776                     0.014277           0.695744  0.358687    0.299630   \n",
       "777                     0.015362           0.723997  0.431470    0.313577   \n",
       "778                     0.014557           0.000000  0.676140    0.452456   \n",
       "779                     0.019208           0.119608  0.681771    0.473410   \n",
       "\n",
       "     other_mw   wind_mw  \n",
       "0    0.082356  0.259709  \n",
       "1    0.040314  0.189246  \n",
       "2    0.034096  0.173835  \n",
       "3    0.035613  0.226786  \n",
       "4    0.072164  0.560472  \n",
       "..        ...       ...  \n",
       "775  0.046921  0.616060  \n",
       "776  0.031855  0.544321  \n",
       "777  0.045410  0.434778  \n",
       "778  0.056168  0.578575  \n",
       "779  0.043136  0.542708  \n",
       "\n",
       "[780 rows x 9 columns]"
      ]
     },
     "execution_count": 7,
     "metadata": {},
     "output_type": "execute_result"
    }
   ],
   "source": [
    "normalized_features_df"
   ]
  },
  {
   "cell_type": "code",
   "execution_count": 8,
   "metadata": {},
   "outputs": [
    {
     "data": {
      "text/plain": [
       "1      0.607735\n",
       "2      0.550615\n",
       "3      0.292413\n",
       "4      0.422040\n",
       "5      0.351532\n",
       "         ...   \n",
       "776    0.270241\n",
       "777    0.735706\n",
       "778    0.384965\n",
       "779    0.230300\n",
       "780    0.324242\n",
       "Name: price, Length: 780, dtype: float64"
      ]
     },
     "execution_count": 8,
     "metadata": {},
     "output_type": "execute_result"
    }
   ],
   "source": [
    "target"
   ]
  },
  {
   "cell_type": "markdown",
   "metadata": {},
   "source": [
    "Testing Lagged Prices"
   ]
  },
  {
   "cell_type": "code",
   "execution_count": 532,
   "metadata": {},
   "outputs": [],
   "source": [
    "# normalized_features_df['price_lag_1'] = target.shift(1).values\n",
    "# normalized_features_df['price_lag_2'] = target.shift(2).values\n",
    "# normalized_features_df['price_lag_3'] = target.shift(3).values"
   ]
  },
  {
   "cell_type": "code",
   "execution_count": 9,
   "metadata": {},
   "outputs": [],
   "source": [
    "X = torch.from_numpy(features.values)\n",
    "y = torch.from_numpy(target.values)\n",
    "\n",
    "X_train, X_test, y_train, y_test = train_test_split(X, y, test_size=0.2, random_state=100)"
   ]
  },
  {
   "cell_type": "code",
   "execution_count": 300,
   "metadata": {},
   "outputs": [
    {
     "data": {
      "text/plain": [
       "torch.Size([624])"
      ]
     },
     "execution_count": 300,
     "metadata": {},
     "output_type": "execute_result"
    }
   ],
   "source": [
    "X_train.size()\n",
    "y_train.size()"
   ]
  },
  {
   "cell_type": "code",
   "execution_count": 10,
   "metadata": {},
   "outputs": [],
   "source": [
    "input_features = [\n",
    "        \"temperature_2m_mean\", \"precipitation_sum\", \"wind_speed_10m_max\",\n",
    "        \"wind_direction_10m_dominant\", \"sunshine_duration\",\n",
    "        \"Hydro Water Reservoir\", \"Nuclear\", \"Other\", \"Wind Onshore\", \n",
    "]\n",
    "input_size = len(input_features)\n",
    "# model = nn.EnergyPricePredictorLSTM(input_size=input_size)"
   ]
  },
  {
   "cell_type": "code",
   "execution_count": 11,
   "metadata": {},
   "outputs": [],
   "source": [
    "from torch.utils.data import Dataset, DataLoader\n",
    "import numpy as np\n",
    "class SequenceDataset(Dataset):\n",
    "    def __init__(self, X, y, seq_length):\n",
    "        self.X = X\n",
    "        self.y = y\n",
    "        self.seq_length = seq_length\n",
    "\n",
    "    def __len__(self):\n",
    "        return len(self.X) // self.seq_length\n",
    "\n",
    "    def __getitem__(self, idx):\n",
    "        x_seq = self.X[idx:idx + self.seq_length, :]\n",
    "        y_hist = self.y[idx:idx + self.seq_length].reshape(-1, 1) \n",
    "        x_combined = torch.tensor(np.hstack((x_seq, y_hist)), dtype=torch.float32)\n",
    "        y_target = torch.tensor(self.y[idx + self.seq_length], dtype=torch.float32)\n",
    "        return x_combined, y_target\n"
   ]
  },
  {
   "cell_type": "code",
   "execution_count": 12,
   "metadata": {},
   "outputs": [],
   "source": [
    "input_size = 10\n"
   ]
  },
  {
   "cell_type": "code",
   "execution_count": 13,
   "metadata": {},
   "outputs": [],
   "source": [
    "seq_length = 3\n",
    "batch_size = 16\n",
    "train_dataset = SequenceDataset(X_train, y_train, seq_length)\n",
    "test_dataset = SequenceDataset(X_test, y_test, seq_length)\n",
    "train_loader = DataLoader(train_dataset, batch_size=batch_size, shuffle=True)\n",
    "test_loader = DataLoader(test_dataset, batch_size=batch_size)\n"
   ]
  },
  {
   "cell_type": "code",
   "execution_count": 14,
   "metadata": {},
   "outputs": [
    {
     "name": "stdout",
     "output_type": "stream",
     "text": [
      "torch.Size([16, 3, 10])\n",
      "torch.Size([16])\n",
      "torch.Size([16, 3, 10])\n",
      "torch.Size([16])\n"
     ]
    }
   ],
   "source": [
    "for i, (X, y) in enumerate(train_loader):\n",
    "    print(X.size())\n",
    "    print(y.size())\n",
    "    break\n",
    "\n",
    "for i, (X, y) in enumerate(test_loader):\n",
    "    print(X.size())\n",
    "    print(y.size())\n",
    "    break"
   ]
  },
  {
   "cell_type": "code",
   "execution_count": 15,
   "metadata": {},
   "outputs": [],
   "source": [
    "hidden_size = 64        \n",
    "num_layers = 2         \n",
    "output_size = 1"
   ]
  },
  {
   "cell_type": "code",
   "execution_count": 16,
   "metadata": {},
   "outputs": [
    {
     "name": "stdout",
     "output_type": "stream",
     "text": [
      "Epoch 1, Training Loss: 1.1119\n",
      "Epoch 2, Training Loss: 1.0496\n",
      "Epoch 3, Training Loss: 1.0083\n",
      "Epoch 4, Training Loss: 0.9589\n",
      "Epoch 5, Training Loss: 0.9224\n",
      "Epoch 6, Training Loss: 0.8722\n",
      "Epoch 7, Training Loss: 0.8289\n",
      "Epoch 8, Training Loss: 0.8035\n",
      "Epoch 9, Training Loss: 0.7722\n",
      "Epoch 10, Training Loss: 0.7040\n",
      "Epoch 11, Training Loss: 0.6965\n",
      "Epoch 12, Training Loss: 0.6765\n",
      "Epoch 13, Training Loss: 0.6547\n",
      "Epoch 14, Training Loss: 0.6188\n",
      "Epoch 15, Training Loss: 0.6033\n",
      "Epoch 16, Training Loss: 0.6050\n",
      "Epoch 17, Training Loss: 0.6007\n",
      "Epoch 18, Training Loss: 0.6098\n",
      "Epoch 19, Training Loss: 0.5907\n",
      "Epoch 20, Training Loss: 0.5949\n",
      "Epoch 21, Training Loss: 0.6181\n",
      "Epoch 22, Training Loss: 0.6047\n",
      "Epoch 23, Training Loss: 0.6053\n",
      "Epoch 24, Training Loss: 0.5991\n",
      "Epoch 25, Training Loss: 0.5794\n",
      "Epoch 26, Training Loss: 0.5877\n",
      "Epoch 27, Training Loss: 0.5921\n",
      "Epoch 28, Training Loss: 0.5853\n",
      "Epoch 29, Training Loss: 0.5885\n",
      "Epoch 30, Training Loss: 0.5902\n",
      "Epoch 31, Training Loss: 0.5947\n",
      "Epoch 32, Training Loss: 0.6014\n",
      "Epoch 33, Training Loss: 0.6043\n",
      "Epoch 34, Training Loss: 0.5885\n",
      "Epoch 35, Training Loss: 0.5950\n",
      "Epoch 36, Training Loss: 0.5921\n",
      "Epoch 37, Training Loss: 0.6110\n",
      "Epoch 38, Training Loss: 0.6093\n",
      "Epoch 39, Training Loss: 0.5924\n",
      "Epoch 40, Training Loss: 0.6064\n",
      "Epoch 41, Training Loss: 0.5827\n",
      "Epoch 42, Training Loss: 0.6001\n",
      "Epoch 43, Training Loss: 0.5879\n",
      "Epoch 44, Training Loss: 0.5959\n",
      "Epoch 45, Training Loss: 0.5967\n",
      "Epoch 46, Training Loss: 0.6045\n",
      "Epoch 47, Training Loss: 0.5872\n",
      "Epoch 48, Training Loss: 0.5866\n",
      "Epoch 49, Training Loss: 0.5870\n",
      "Epoch 50, Training Loss: 0.5865\n",
      "Epoch 51, Training Loss: 0.5926\n",
      "Epoch 52, Training Loss: 0.5667\n",
      "Epoch 53, Training Loss: 0.5734\n",
      "Epoch 54, Training Loss: 0.5912\n",
      "Epoch 55, Training Loss: 0.5831\n",
      "Epoch 56, Training Loss: 0.5752\n",
      "Epoch 57, Training Loss: 0.5853\n",
      "Epoch 58, Training Loss: 0.5768\n",
      "Epoch 59, Training Loss: 0.5689\n",
      "Epoch 60, Training Loss: 0.5895\n",
      "Epoch 61, Training Loss: 0.5699\n",
      "Epoch 62, Training Loss: 0.5787\n",
      "Epoch 63, Training Loss: 0.5709\n",
      "Epoch 64, Training Loss: 0.5894\n",
      "Epoch 65, Training Loss: 0.5858\n",
      "Epoch 66, Training Loss: 0.5906\n",
      "Epoch 67, Training Loss: 0.5714\n",
      "Epoch 68, Training Loss: 0.5785\n",
      "Epoch 69, Training Loss: 0.5882\n",
      "Epoch 70, Training Loss: 0.5906\n",
      "Epoch 71, Training Loss: 0.5859\n",
      "Epoch 72, Training Loss: 0.5805\n",
      "Epoch 73, Training Loss: 0.5911\n",
      "Epoch 74, Training Loss: 0.5825\n",
      "Epoch 75, Training Loss: 0.5578\n",
      "Epoch 76, Training Loss: 0.5862\n",
      "Epoch 77, Training Loss: 0.5892\n",
      "Epoch 78, Training Loss: 0.5807\n",
      "Epoch 79, Training Loss: 0.5611\n",
      "Epoch 80, Training Loss: 0.6014\n",
      "Epoch 81, Training Loss: 0.5773\n",
      "Epoch 82, Training Loss: 0.5904\n",
      "Epoch 83, Training Loss: 0.5828\n",
      "Epoch 84, Training Loss: 0.5821\n",
      "Epoch 85, Training Loss: 0.5863\n",
      "Epoch 86, Training Loss: 0.5764\n",
      "Epoch 87, Training Loss: 0.5699\n",
      "Epoch 88, Training Loss: 0.5949\n",
      "Epoch 89, Training Loss: 0.5872\n",
      "Epoch 90, Training Loss: 0.5699\n",
      "Epoch 91, Training Loss: 0.5941\n",
      "Epoch 92, Training Loss: 0.5683\n",
      "Epoch 93, Training Loss: 0.5693\n",
      "Epoch 94, Training Loss: 0.5970\n",
      "Epoch 95, Training Loss: 0.5937\n",
      "Epoch 96, Training Loss: 0.5702\n",
      "Epoch 97, Training Loss: 0.5664\n",
      "Epoch 98, Training Loss: 0.5786\n",
      "Epoch 99, Training Loss: 0.5636\n",
      "Epoch 100, Training Loss: 0.5899\n"
     ]
    }
   ],
   "source": [
    "import torch.optim as optim\n",
    "import torch.nn as nn\n",
    "\n",
    "class PriceLSTM(nn.Module):\n",
    "    def __init__(self, input_size, hidden_size, num_layers, output_size):\n",
    "        super(PriceLSTM, self).__init__()\n",
    "        self.hidden_size = hidden_size\n",
    "        self.num_layers = num_layers\n",
    "        self.lstm = nn.LSTM(input_size, hidden_size, num_layers, batch_first=True)\n",
    "        self.fc = nn.Linear(hidden_size, output_size)\n",
    "        self.dropout = nn.Dropout(p=0.4)\n",
    "    \n",
    "    def forward(self, x):\n",
    "        h0 = torch.zeros(self.num_layers, x.size(0), self.hidden_size).to(x.device)  \n",
    "        c0 = torch.zeros(self.num_layers, x.size(0), self.hidden_size).to(x.device)  \n",
    "        out, _ = self.lstm(x, (h0, c0))  \n",
    "        out = self.dropout(out)\n",
    "        out = self.fc(out[:, -1, :]) \n",
    "        return out\n",
    "\n",
    "num_epochs = 100\n",
    "model = PriceLSTM(input_size, hidden_size, num_layers, output_size)\n",
    "criterion = nn.MSELoss()\n",
    "optimizer = optim.Adam(model.parameters(), lr=1e-4)\n",
    "train_loss_list = []\n",
    "for epoch in range(num_epochs):\n",
    "    model.train()\n",
    "    train_loss = 0\n",
    "    for X_batch, y_batch in train_loader:\n",
    "        optimizer.zero_grad()\n",
    "        y_pred = model(X_batch)\n",
    "        loss = criterion(y_pred.squeeze(), y_batch)\n",
    "        loss.backward()\n",
    "        optimizer.step()\n",
    "        train_loss += loss.item()\n",
    "    \n",
    "\n",
    "    print(f\"Epoch {epoch+1}, Training Loss: {train_loss/len(train_loader):.4f}\")\n",
    "    train_loss_list.append(train_loss/len(train_loader))\n"
   ]
  },
  {
   "cell_type": "code",
   "execution_count": 25,
   "metadata": {},
   "outputs": [],
   "source": [
    "from sklearn.metrics import mean_squared_error, r2_score\n",
    "\n",
    "model.eval()\n",
    "test_loss = 0\n",
    "y_preds = []\n",
    "y_true = []\n",
    "with torch.no_grad():\n",
    "    for X_batch, y_batch in test_loader:\n",
    "        y_pred = model(X_batch)\n",
    "        y_preds += y_pred.tolist()\n",
    "        y_true += y_batch.tolist()"
   ]
  },
  {
   "cell_type": "code",
   "execution_count": 26,
   "metadata": {},
   "outputs": [
    {
     "name": "stdout",
     "output_type": "stream",
     "text": [
      "MSE: 0.600434302834533\n",
      "R squared: -0.09112162843008287\n"
     ]
    }
   ],
   "source": [
    "mse = mean_squared_error(y_true, y_preds)\n",
    "print(\"MSE:\", mse)\n",
    "\n",
    "r2 = r2_score(y_true, y_preds)\n",
    "print(\"R squared:\", r2)\n"
   ]
  },
  {
   "cell_type": "code",
   "execution_count": 534,
   "metadata": {},
   "outputs": [
    {
     "name": "stdout",
     "output_type": "stream",
     "text": [
      "MSE: 0.1194033606000809\n",
      "R squared: 0.7361859991912219\n"
     ]
    }
   ],
   "source": [
    "from xgboost import XGBRegressor\n",
    "from sklearn.metrics import mean_squared_error, r2_score\n",
    "\n",
    "xgb_model = XGBRegressor(n_estimators=1000, learning_rate=0.01)\n",
    "xgb_model.fit(X_train, y_train)\n",
    "y_pred = xgb_model.predict(X_test)\n",
    "mse = mean_squared_error(y_test, y_pred)\n",
    "print(\"MSE:\", mse)\n",
    "\n",
    "r2 = r2_score(y_test, y_pred)\n",
    "print(\"R squared:\", r2)\n",
    "\n",
    "eval_dict = { \n",
    "    \"MSE\": str(mse),\n",
    "    \"R squared\": str(r2),\n",
    "}"
   ]
  },
  {
   "cell_type": "markdown",
   "metadata": {},
   "source": [
    "Upload model to Hopsworks"
   ]
  },
  {
   "cell_type": "code",
   "execution_count": 499,
   "metadata": {},
   "outputs": [],
   "source": [
    "model_dir = \"price_prediction_model\"\n",
    "if not os.path.exists(model_dir):\n",
    "    os.mkdir(model_dir)"
   ]
  },
  {
   "cell_type": "code",
   "execution_count": 500,
   "metadata": {},
   "outputs": [],
   "source": [
    "xgb_model.save_model(model_dir + \"/model.json\")"
   ]
  },
  {
   "cell_type": "code",
   "execution_count": 501,
   "metadata": {},
   "outputs": [
    {
     "data": {
      "application/vnd.jupyter.widget-view+json": {
       "model_id": "a2c95fe654424662a923f06f18634eb1",
       "version_major": 2,
       "version_minor": 0
      },
      "text/plain": [
       "  0%|          | 0/6 [00:00<?, ?it/s]"
      ]
     },
     "metadata": {},
     "output_type": "display_data"
    },
    {
     "data": {
      "application/vnd.jupyter.widget-view+json": {
       "model_id": "9c11eb3d626a49db8f7f6d8d4187ece1",
       "version_major": 2,
       "version_minor": 0
      },
      "text/plain": [
       "Uploading: 0.000%|          | 0/4063513 elapsed<00:00 remaining<?"
      ]
     },
     "metadata": {},
     "output_type": "display_data"
    },
    {
     "data": {
      "application/vnd.jupyter.widget-view+json": {
       "model_id": "cce5f8bb1f7a4621b8eba161b1c2bcc0",
       "version_major": 2,
       "version_minor": 0
      },
      "text/plain": [
       "Uploading: 0.000%|          | 0/20 elapsed<00:00 remaining<?"
      ]
     },
     "metadata": {},
     "output_type": "display_data"
    },
    {
     "data": {
      "application/vnd.jupyter.widget-view+json": {
       "model_id": "6131b30c236b4d8bb4ce90541f104630",
       "version_major": 2,
       "version_minor": 0
      },
      "text/plain": [
       "Uploading: 0.000%|          | 0/928 elapsed<00:00 remaining<?"
      ]
     },
     "metadata": {},
     "output_type": "display_data"
    },
    {
     "name": "stdout",
     "output_type": "stream",
     "text": [
      "Model created, explore it at https://c.app.hopsworks.ai:443/p/1164449/models/price_prediction_model/1\n"
     ]
    },
    {
     "data": {
      "text/plain": [
       "Model(name: 'price_prediction_model', version: 1)"
      ]
     },
     "execution_count": 501,
     "metadata": {},
     "output_type": "execute_result"
    }
   ],
   "source": [
    "from hsml.schema import Schema\n",
    "from hsml.model_schema import ModelSchema\n",
    "\n",
    "input_schema = Schema(normalized_features_df)\n",
    "output_schema = Schema(target)\n",
    "\n",
    "model_schema = ModelSchema(input_schema=input_schema, output_schema=output_schema)\n",
    "\n",
    "mr = proj.get_model_registry()\n",
    "\n",
    "price_prediction_model = mr.python.create_model(\n",
    "    name=\"price_prediction_model\", \n",
    "    metrics=eval_dict,\n",
    "    model_schema=model_schema,\n",
    "    input_example=target.sample().values, \n",
    "    description=\"Electricity Price Predicition Model\",\n",
    ")\n",
    "\n",
    "price_prediction_model.save(model_dir)"
   ]
  }
 ],
 "metadata": {
  "kernelspec": {
   "display_name": "Python 3",
   "language": "python",
   "name": "python3"
  },
  "language_info": {
   "codemirror_mode": {
    "name": "ipython",
    "version": 3
   },
   "file_extension": ".py",
   "mimetype": "text/x-python",
   "name": "python",
   "nbconvert_exporter": "python",
   "pygments_lexer": "ipython3",
   "version": "3.9.4"
  }
 },
 "nbformat": 4,
 "nbformat_minor": 2
}
