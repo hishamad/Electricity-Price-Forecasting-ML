{
 "cells": [
  {
   "cell_type": "code",
   "execution_count": 1,
   "metadata": {},
   "outputs": [],
   "source": [
    "import requests\n",
    "import pandas as pd\n",
    "import hopsworks\n",
    "import datetime\n",
    "import matplotlib.pyplot as plt\n",
    "import json\n",
    "import re\n",
    "import os\n",
    "import sys\n",
    "from dotenv import load_dotenv\n",
    "from datetime import datetime, timedelta\n",
    "import warnings\n",
    "sys.path.append(os.path.abspath(os.path.join('..', 'functions')))\n",
    "import util\n",
    "sys.path.append(os.path.abspath(os.path.join('..', 'model')))\n",
    "import nn\n",
    "import torch\n",
    "from sklearn.preprocessing import Normalizer\n",
    "from sklearn.model_selection import train_test_split\n",
    "\n",
    "\n",
    "warnings.filterwarnings(\"ignore\")"
   ]
  },
  {
   "cell_type": "code",
   "execution_count": 2,
   "metadata": {},
   "outputs": [
    {
     "name": "stdout",
     "output_type": "stream",
     "text": [
      "2024-12-29 13:09:14,411 INFO: Initializing external client\n",
      "2024-12-29 13:09:14,411 INFO: Base URL: https://c.app.hopsworks.ai:443\n",
      "2024-12-29 13:09:17,866 INFO: Python Engine initialized.\n",
      "\n",
      "Logged in to project, explore it here https://c.app.hopsworks.ai:443/p/1164449\n"
     ]
    }
   ],
   "source": [
    "load_dotenv()\n",
    "proj = hopsworks.login()\n",
    "fs = proj.get_feature_store(\"KTH_ID2223\") "
   ]
  },
  {
   "cell_type": "code",
   "execution_count": 3,
   "metadata": {},
   "outputs": [],
   "source": [
    "el_prices_fg = fs.get_feature_group(\n",
    "    name='el_prices',\n",
    "    version=1,\n",
    ")\n",
    "weather_fg = fs.get_feature_group(\n",
    "    name='weather',\n",
    "    version=1,\n",
    ")\n",
    "power_fg = fs.get_feature_group(\n",
    "    name='power',\n",
    "    version=1,\n",
    ")"
   ]
  },
  {
   "cell_type": "code",
   "execution_count": 4,
   "metadata": {},
   "outputs": [
    {
     "name": "stdout",
     "output_type": "stream",
     "text": [
      "Finished: Reading data from Hopsworks, using Hopsworks Feature Query Service (0.95s) \n"
     ]
    },
    {
     "data": {
      "text/html": [
       "<div>\n",
       "<style scoped>\n",
       "    .dataframe tbody tr th:only-of-type {\n",
       "        vertical-align: middle;\n",
       "    }\n",
       "\n",
       "    .dataframe tbody tr th {\n",
       "        vertical-align: top;\n",
       "    }\n",
       "\n",
       "    .dataframe thead th {\n",
       "        text-align: right;\n",
       "    }\n",
       "</style>\n",
       "<table border=\"1\" class=\"dataframe\">\n",
       "  <thead>\n",
       "    <tr style=\"text-align: right;\">\n",
       "      <th></th>\n",
       "      <th>date</th>\n",
       "      <th>price</th>\n",
       "    </tr>\n",
       "  </thead>\n",
       "  <tbody>\n",
       "    <tr>\n",
       "      <th>0</th>\n",
       "      <td>2023-01-23 00:00:00+00:00</td>\n",
       "      <td>1.662196</td>\n",
       "    </tr>\n",
       "    <tr>\n",
       "      <th>1</th>\n",
       "      <td>2023-12-20 00:00:00+00:00</td>\n",
       "      <td>0.535002</td>\n",
       "    </tr>\n",
       "    <tr>\n",
       "      <th>2</th>\n",
       "      <td>2023-05-27 00:00:00+00:00</td>\n",
       "      <td>0.064113</td>\n",
       "    </tr>\n",
       "    <tr>\n",
       "      <th>3</th>\n",
       "      <td>2023-03-15 00:00:00+00:00</td>\n",
       "      <td>0.975358</td>\n",
       "    </tr>\n",
       "    <tr>\n",
       "      <th>4</th>\n",
       "      <td>2022-11-01 00:00:00+00:00</td>\n",
       "      <td>0.655705</td>\n",
       "    </tr>\n",
       "    <tr>\n",
       "      <th>5</th>\n",
       "      <td>2023-07-27 00:00:00+00:00</td>\n",
       "      <td>0.381928</td>\n",
       "    </tr>\n",
       "    <tr>\n",
       "      <th>6</th>\n",
       "      <td>2023-01-26 00:00:00+00:00</td>\n",
       "      <td>1.101363</td>\n",
       "    </tr>\n",
       "    <tr>\n",
       "      <th>7</th>\n",
       "      <td>2024-06-02 00:00:00+00:00</td>\n",
       "      <td>0.097737</td>\n",
       "    </tr>\n",
       "    <tr>\n",
       "      <th>8</th>\n",
       "      <td>2023-03-22 00:00:00+00:00</td>\n",
       "      <td>0.488279</td>\n",
       "    </tr>\n",
       "    <tr>\n",
       "      <th>9</th>\n",
       "      <td>2024-09-04 00:00:00+00:00</td>\n",
       "      <td>0.209347</td>\n",
       "    </tr>\n",
       "  </tbody>\n",
       "</table>\n",
       "</div>"
      ],
      "text/plain": [
       "                       date     price\n",
       "0 2023-01-23 00:00:00+00:00  1.662196\n",
       "1 2023-12-20 00:00:00+00:00  0.535002\n",
       "2 2023-05-27 00:00:00+00:00  0.064113\n",
       "3 2023-03-15 00:00:00+00:00  0.975358\n",
       "4 2022-11-01 00:00:00+00:00  0.655705\n",
       "5 2023-07-27 00:00:00+00:00  0.381928\n",
       "6 2023-01-26 00:00:00+00:00  1.101363\n",
       "7 2024-06-02 00:00:00+00:00  0.097737\n",
       "8 2023-03-22 00:00:00+00:00  0.488279\n",
       "9 2024-09-04 00:00:00+00:00  0.209347"
      ]
     },
     "execution_count": 4,
     "metadata": {},
     "output_type": "execute_result"
    }
   ],
   "source": [
    "el_prices_fg.show(10)\n",
    "# weather_fg.show(10)\n",
    "# power_fg.show(10)"
   ]
  },
  {
   "cell_type": "code",
   "execution_count": 5,
   "metadata": {},
   "outputs": [
    {
     "name": "stdout",
     "output_type": "stream",
     "text": [
      "Finished: Reading data from Hopsworks, using Hopsworks Feature Query Service (0.66s) \n",
      "Finished: Reading data from Hopsworks, using Hopsworks Feature Query Service (0.65s) \n",
      "Finished: Reading data from Hopsworks, using Hopsworks Feature Query Service (0.61s) \n"
     ]
    }
   ],
   "source": [
    "weather_df = weather_fg.read()\n",
    "power_df = power_fg.read()\n",
    "el_prices_df = el_prices_fg.read()"
   ]
  },
  {
   "cell_type": "code",
   "execution_count": 6,
   "metadata": {},
   "outputs": [
    {
     "name": "stdout",
     "output_type": "stream",
     "text": [
      "   temperature_2m_mean  precipitation_sum  wind_speed_10m_max  \\\n",
      "0             0.000806           0.000110            0.001211   \n",
      "1             0.000430           0.000040            0.000594   \n",
      "2             0.000292           0.000000            0.000538   \n",
      "3             0.000338           0.000000            0.000867   \n",
      "4             0.000726           0.000522            0.001808   \n",
      "\n",
      "   wind_direction_10m_dominant  sunshine_duration  hydro_mw  nuclear_mw  \\\n",
      "0                     0.019292           0.000000  0.807575    0.522701   \n",
      "1                     0.008403           0.877442  0.357346    0.254733   \n",
      "2                     0.007029           0.917855  0.288438    0.207158   \n",
      "3                     0.005856           0.905648  0.273211    0.228957   \n",
      "4                     0.014766           0.000000  0.630715    0.531639   \n",
      "\n",
      "   other_mw   wind_mw  \n",
      "0  0.082356  0.259709  \n",
      "1  0.040314  0.189246  \n",
      "2  0.034096  0.173835  \n",
      "3  0.035613  0.226786  \n",
      "4  0.072164  0.560472  \n"
     ]
    }
   ],
   "source": [
    "merged_df = (\n",
    "    weather_df\n",
    "    .merge(power_df, on=\"date\", how=\"inner\")\n",
    "    .merge(el_prices_df, on=\"date\", how=\"inner\")\n",
    ")\n",
    "\n",
    "merged_df['date'] = pd.to_datetime(merged_df['date'])\n",
    "merged_df = merged_df.sort_values(by=\"date\").reset_index(drop=True)\n",
    "\n",
    "dates = merged_df['date']\n",
    "features = merged_df.drop(columns=['date', 'price']).iloc[:-1]\n",
    "target = merged_df['price'].iloc[1:]\n",
    "normalizer = Normalizer()\n",
    "normalized_continuous_features = normalizer.fit_transform(features)\n",
    "normalized_features_df = pd.DataFrame(normalized_continuous_features, columns=features.columns)\n",
    "\n",
    "print(normalized_features_df.head())"
   ]
  },
  {
   "cell_type": "code",
   "execution_count": 7,
   "metadata": {},
   "outputs": [],
   "source": [
    "X = torch.from_numpy(features.values)\n",
    "y = torch.from_numpy(target.values)\n",
    "\n",
    "X_train, X_test, y_train, y_test = train_test_split(X, y, test_size=0.2, random_state=100)"
   ]
  },
  {
   "cell_type": "code",
   "execution_count": 8,
   "metadata": {},
   "outputs": [],
   "source": [
    "input_features = [\n",
    "        \"temperature_2m_mean\", \"precipitation_sum\", \"wind_speed_10m_max\",\n",
    "        \"wind_direction_10m_dominant\", \"sunshine_duration\",\n",
    "        \"Hydro Water Reservoir\", \"Nuclear\", \"Other\", \"Wind Onshore\", \n",
    "]\n",
    "input_size = len(input_features)\n",
    "model = nn.EnergyPricePredictorLSTM(input_size=input_size)"
   ]
  },
  {
   "cell_type": "code",
   "execution_count": 90,
   "metadata": {},
   "outputs": [],
   "source": [
    "from torch.utils.data import Dataset, DataLoader\n",
    "\n",
    "class SequenceDataset(Dataset):\n",
    "    def __init__(self, X, y, seq_length):\n",
    "        self.X = X\n",
    "        self.y = y\n",
    "        self.seq_length = seq_length\n",
    "\n",
    "    def __len__(self):\n",
    "        return len(self.X) // self.seq_length\n",
    "\n",
    "    def __getitem__(self, idx):\n",
    "        x_seq = self.X[idx:idx + self.seq_length, :]\n",
    "        y_seq = self.y[idx + self.seq_length]\n",
    "        return torch.tensor(x_seq, dtype=torch.float32), torch.tensor(y_seq, dtype=torch.float32)\n"
   ]
  },
  {
   "cell_type": "code",
   "execution_count": 163,
   "metadata": {},
   "outputs": [],
   "source": [
    "seq_length = 3\n",
    "batch_size = 16\n",
    "train_dataset = SequenceDataset(X_train, y_train, seq_length)\n",
    "test_dataset = SequenceDataset(X_test, y_test, seq_length)\n",
    "\n",
    "train_loader = DataLoader(train_dataset, batch_size=batch_size, shuffle=True)\n",
    "test_loader = DataLoader(test_dataset, batch_size=batch_size)\n"
   ]
  },
  {
   "cell_type": "code",
   "execution_count": 164,
   "metadata": {},
   "outputs": [
    {
     "name": "stdout",
     "output_type": "stream",
     "text": [
      "torch.Size([16, 3, 9])\n",
      "torch.Size([16])\n",
      "torch.Size([16, 3, 9])\n",
      "torch.Size([16])\n"
     ]
    }
   ],
   "source": [
    "for i, (X, y) in enumerate(train_loader):\n",
    "    print(X.size())\n",
    "    print(y.size())\n",
    "    break\n",
    "\n",
    "for i, (X, y) in enumerate(test_loader):\n",
    "    print(X.size())\n",
    "    print(y.size())\n",
    "    break"
   ]
  },
  {
   "cell_type": "code",
   "execution_count": 165,
   "metadata": {},
   "outputs": [],
   "source": [
    "hidden_size = 64        \n",
    "num_layers = 2         \n",
    "output_size = 1"
   ]
  },
  {
   "cell_type": "code",
   "execution_count": null,
   "metadata": {},
   "outputs": [
    {
     "name": "stdout",
     "output_type": "stream",
     "text": [
      "Epoch 1, Training Loss: 1.1233\n",
      "Epoch 2, Training Loss: 1.1173\n",
      "Epoch 3, Training Loss: 1.1117\n",
      "Epoch 4, Training Loss: 1.1061\n",
      "Epoch 5, Training Loss: 1.1005\n",
      "Epoch 6, Training Loss: 1.0951\n",
      "Epoch 7, Training Loss: 1.0897\n",
      "Epoch 8, Training Loss: 1.0844\n",
      "Epoch 9, Training Loss: 1.0791\n",
      "Epoch 10, Training Loss: 1.0742\n",
      "Epoch 11, Training Loss: 1.0688\n",
      "Epoch 12, Training Loss: 1.0640\n",
      "Epoch 13, Training Loss: 1.0589\n",
      "Epoch 14, Training Loss: 1.0540\n",
      "Epoch 15, Training Loss: 1.0488\n",
      "Epoch 16, Training Loss: 1.0439\n",
      "Epoch 17, Training Loss: 1.0388\n",
      "Epoch 18, Training Loss: 1.0338\n",
      "Epoch 19, Training Loss: 1.0289\n",
      "Epoch 20, Training Loss: 1.0240\n",
      "Epoch 21, Training Loss: 1.0193\n",
      "Epoch 22, Training Loss: 1.0145\n",
      "Epoch 23, Training Loss: 1.0092\n",
      "Epoch 24, Training Loss: 1.0036\n",
      "Epoch 25, Training Loss: 0.9988\n",
      "Epoch 26, Training Loss: 0.9940\n",
      "Epoch 27, Training Loss: 0.9890\n",
      "Epoch 28, Training Loss: 0.9841\n",
      "Epoch 29, Training Loss: 0.9796\n",
      "Epoch 30, Training Loss: 0.9747\n",
      "Epoch 31, Training Loss: 0.9701\n",
      "Epoch 32, Training Loss: 0.9652\n",
      "Epoch 33, Training Loss: 0.9600\n",
      "Epoch 34, Training Loss: 0.9550\n",
      "Epoch 35, Training Loss: 0.9504\n",
      "Epoch 36, Training Loss: 0.9454\n",
      "Epoch 37, Training Loss: 0.9407\n",
      "Epoch 38, Training Loss: 0.9362\n",
      "Epoch 39, Training Loss: 0.9316\n",
      "Epoch 40, Training Loss: 0.9269\n",
      "Epoch 41, Training Loss: 0.9221\n",
      "Epoch 42, Training Loss: 0.9176\n",
      "Epoch 43, Training Loss: 0.9129\n",
      "Epoch 44, Training Loss: 0.9083\n",
      "Epoch 45, Training Loss: 0.9037\n",
      "Epoch 46, Training Loss: 0.8993\n",
      "Epoch 47, Training Loss: 0.8944\n",
      "Epoch 48, Training Loss: 0.8896\n",
      "Epoch 49, Training Loss: 0.8850\n",
      "Epoch 50, Training Loss: 0.8804\n",
      "Epoch 51, Training Loss: 0.8759\n",
      "Epoch 52, Training Loss: 0.8714\n",
      "Epoch 53, Training Loss: 0.8670\n",
      "Epoch 54, Training Loss: 0.8626\n",
      "Epoch 55, Training Loss: 0.8579\n",
      "Epoch 56, Training Loss: 0.8535\n",
      "Epoch 57, Training Loss: 0.8490\n",
      "Epoch 58, Training Loss: 0.8442\n",
      "Epoch 59, Training Loss: 0.8401\n",
      "Epoch 60, Training Loss: 0.8357\n",
      "Epoch 61, Training Loss: 0.8312\n",
      "Epoch 62, Training Loss: 0.8266\n",
      "Epoch 63, Training Loss: 0.8226\n",
      "Epoch 64, Training Loss: 0.8181\n",
      "Epoch 65, Training Loss: 0.8136\n",
      "Epoch 66, Training Loss: 0.8095\n",
      "Epoch 67, Training Loss: 0.8055\n",
      "Epoch 68, Training Loss: 0.8010\n",
      "Epoch 69, Training Loss: 0.7969\n",
      "Epoch 70, Training Loss: 0.7929\n",
      "Epoch 71, Training Loss: 0.7886\n",
      "Epoch 72, Training Loss: 0.7846\n",
      "Epoch 73, Training Loss: 0.7804\n",
      "Epoch 74, Training Loss: 0.7765\n",
      "Epoch 75, Training Loss: 0.7724\n",
      "Epoch 76, Training Loss: 0.7684\n",
      "Epoch 77, Training Loss: 0.7645\n",
      "Epoch 78, Training Loss: 0.7603\n",
      "Epoch 79, Training Loss: 0.7566\n",
      "Epoch 80, Training Loss: 0.7524\n",
      "Epoch 81, Training Loss: 0.7489\n",
      "Epoch 82, Training Loss: 0.7449\n",
      "Epoch 83, Training Loss: 0.7411\n",
      "Epoch 84, Training Loss: 0.7372\n",
      "Epoch 85, Training Loss: 0.7339\n",
      "Epoch 86, Training Loss: 0.7301\n",
      "Epoch 87, Training Loss: 0.7265\n",
      "Epoch 88, Training Loss: 0.7232\n",
      "Epoch 89, Training Loss: 0.7194\n",
      "Epoch 90, Training Loss: 0.7160\n",
      "Epoch 91, Training Loss: 0.7127\n",
      "Epoch 92, Training Loss: 0.7091\n",
      "Epoch 93, Training Loss: 0.7059\n",
      "Epoch 94, Training Loss: 0.7025\n",
      "Epoch 95, Training Loss: 0.6993\n",
      "Epoch 96, Training Loss: 0.6961\n",
      "Epoch 97, Training Loss: 0.6932\n",
      "Epoch 98, Training Loss: 0.6898\n",
      "Epoch 99, Training Loss: 0.6870\n",
      "Epoch 100, Training Loss: 0.6839\n",
      "Epoch 101, Training Loss: 0.6810\n",
      "Epoch 102, Training Loss: 0.6781\n",
      "Epoch 103, Training Loss: 0.6756\n",
      "Epoch 104, Training Loss: 0.6725\n",
      "Epoch 105, Training Loss: 0.6698\n",
      "Epoch 106, Training Loss: 0.6673\n",
      "Epoch 107, Training Loss: 0.6645\n",
      "Epoch 108, Training Loss: 0.6621\n",
      "Epoch 109, Training Loss: 0.6596\n",
      "Epoch 110, Training Loss: 0.6569\n",
      "Epoch 111, Training Loss: 0.6544\n",
      "Epoch 112, Training Loss: 0.6523\n",
      "Epoch 113, Training Loss: 0.6502\n",
      "Epoch 114, Training Loss: 0.6477\n",
      "Epoch 115, Training Loss: 0.6455\n",
      "Epoch 116, Training Loss: 0.6437\n",
      "Epoch 117, Training Loss: 0.6416\n",
      "Epoch 118, Training Loss: 0.6394\n",
      "Epoch 119, Training Loss: 0.6376\n",
      "Epoch 120, Training Loss: 0.6357\n",
      "Epoch 121, Training Loss: 0.6339\n",
      "Epoch 122, Training Loss: 0.6320\n",
      "Epoch 123, Training Loss: 0.6306\n",
      "Epoch 124, Training Loss: 0.6287\n",
      "Epoch 125, Training Loss: 0.6271\n",
      "Epoch 126, Training Loss: 0.6256\n",
      "Epoch 127, Training Loss: 0.6240\n",
      "Epoch 128, Training Loss: 0.6226\n",
      "Epoch 129, Training Loss: 0.6213\n",
      "Epoch 130, Training Loss: 0.6198\n",
      "Epoch 131, Training Loss: 0.6186\n",
      "Epoch 132, Training Loss: 0.6172\n",
      "Epoch 133, Training Loss: 0.6161\n",
      "Epoch 134, Training Loss: 0.6148\n",
      "Epoch 135, Training Loss: 0.6138\n",
      "Epoch 136, Training Loss: 0.6125\n",
      "Epoch 137, Training Loss: 0.6114\n",
      "Epoch 138, Training Loss: 0.6105\n",
      "Epoch 139, Training Loss: 0.6098\n",
      "Epoch 140, Training Loss: 0.6083\n",
      "Epoch 141, Training Loss: 0.6076\n",
      "Epoch 142, Training Loss: 0.6066\n",
      "Epoch 143, Training Loss: 0.6056\n",
      "Epoch 144, Training Loss: 0.6051\n",
      "Epoch 145, Training Loss: 0.6042\n",
      "Epoch 146, Training Loss: 0.6033\n",
      "Epoch 147, Training Loss: 0.6026\n",
      "Epoch 148, Training Loss: 0.6020\n",
      "Epoch 149, Training Loss: 0.6012\n",
      "Epoch 150, Training Loss: 0.6007\n"
     ]
    }
   ],
   "source": [
    "import torch.optim as optim\n",
    "import torch.nn as nn\n",
    "\n",
    "class PriceLSTM(nn.Module):\n",
    "    def __init__(self, input_size, hidden_size, num_layers, output_size):\n",
    "        super(PriceLSTM, self).__init__()\n",
    "        self.hidden_size = hidden_size\n",
    "        self.num_layers = num_layers\n",
    "        self.lstm = nn.LSTM(input_size, hidden_size, num_layers, batch_first=True)\n",
    "        self.fc = nn.Linear(hidden_size, output_size)\n",
    "    \n",
    "    def forward(self, x):\n",
    "        h0 = torch.zeros(self.num_layers, x.size(0), self.hidden_size).to(x.device)  \n",
    "        c0 = torch.zeros(self.num_layers, x.size(0), self.hidden_size).to(x.device)  \n",
    "        out, _ = self.lstm(x, (h0, c0))  \n",
    "        out = self.fc(out[:, -1, :]) \n",
    "        return out\n",
    "\n",
    "num_epochs = 200\n",
    "model = PriceLSTM(input_size, hidden_size, num_layers, output_size)\n",
    "criterion = nn.MSELoss()\n",
    "optimizer = optim.Adam(model.parameters(), lr=1e-5)\n",
    "train_loss_list = []\n",
    "for epoch in range(num_epochs):\n",
    "    model.train()\n",
    "    train_loss = 0\n",
    "    for X_batch, y_batch in train_loader:\n",
    "        optimizer.zero_grad()\n",
    "        y_pred = model(X_batch)\n",
    "        loss = criterion(y_pred.squeeze(), y_batch)\n",
    "        loss.backward()\n",
    "        optimizer.step()\n",
    "        train_loss += loss.item()\n",
    "    \n",
    "\n",
    "    print(f\"Epoch {epoch+1}, Training Loss: {train_loss/len(train_loader):.4f}\")\n",
    "    train_loss_list.append(train_loss/len(train_loader))\n",
    "\n"
   ]
  },
  {
   "cell_type": "code",
   "execution_count": 177,
   "metadata": {},
   "outputs": [
    {
     "name": "stdout",
     "output_type": "stream",
     "text": [
      "Test Loss: 0.5507\n"
     ]
    }
   ],
   "source": [
    "model.eval()\n",
    "test_loss = 0\n",
    "y_preds = []\n",
    "with torch.no_grad():\n",
    "    for X_batch, y_batch in test_loader:\n",
    "        y_pred = model(X_batch)\n",
    "        loss = criterion(y_pred.squeeze(), y_batch)\n",
    "        y_preds += y_pred.squeeze().tolist()\n",
    "        test_loss += loss.item()\n",
    "\n",
    "print(f\"Test Loss: {test_loss/len(test_loader):.4f}\")"
   ]
  },
  {
   "cell_type": "markdown",
   "metadata": {},
   "source": [
    "download model hopswork"
   ]
  },
  {
   "cell_type": "code",
   "execution_count": 63,
   "metadata": {},
   "outputs": [
    {
     "name": "stdout",
     "output_type": "stream",
     "text": [
      "MSE: 0.13796250595005646\n",
      "R squared: 0.6951807681678888\n"
     ]
    }
   ],
   "source": [
    "from xgboost import XGBRegressor\n",
    "from sklearn.metrics import mean_squared_error, r2_score\n",
    "\n",
    "xgb_model = XGBRegressor()\n",
    "xgb_model.fit(X_train, y_train)\n",
    "y_pred = xgb_model.predict(X_test)\n",
    "mse = mean_squared_error(y_test, y_pred)\n",
    "print(\"MSE:\", mse)\n",
    "\n",
    "r2 = r2_score(y_test, y_pred)\n",
    "print(\"R squared:\", r2)"
   ]
  }
 ],
 "metadata": {
  "kernelspec": {
   "display_name": "Python 3",
   "language": "python",
   "name": "python3"
  },
  "language_info": {
   "codemirror_mode": {
    "name": "ipython",
    "version": 3
   },
   "file_extension": ".py",
   "mimetype": "text/x-python",
   "name": "python",
   "nbconvert_exporter": "python",
   "pygments_lexer": "ipython3",
   "version": "3.9.4"
  }
 },
 "nbformat": 4,
 "nbformat_minor": 2
}
