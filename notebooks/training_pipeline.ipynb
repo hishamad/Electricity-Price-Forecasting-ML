{
 "cells": [
  {
   "cell_type": "code",
   "execution_count": 32,
   "metadata": {},
   "outputs": [],
   "source": [
    "import requests\n",
    "import pandas as pd\n",
    "import hopsworks\n",
    "import datetime\n",
    "import matplotlib.pyplot as plt\n",
    "import json\n",
    "import re\n",
    "import os\n",
    "import sys\n",
    "from dotenv import load_dotenv\n",
    "from datetime import datetime, timedelta\n",
    "import warnings\n",
    "sys.path.append(os.path.abspath(os.path.join('..', 'functions')))\n",
    "import util\n",
    "sys.path.append(os.path.abspath(os.path.join('..', 'model')))\n",
    "import nn\n",
    "import torch\n",
    "from sklearn.preprocessing import Normalizer\n",
    "from sklearn.model_selection import train_test_split\n",
    "\n",
    "\n",
    "warnings.filterwarnings(\"ignore\")"
   ]
  },
  {
   "cell_type": "code",
   "execution_count": 33,
   "metadata": {},
   "outputs": [
    {
     "name": "stdout",
     "output_type": "stream",
     "text": [
      "2024-12-31 14:51:19,950 INFO: Closing external client and cleaning up certificates.\n",
      "Connection closed.\n",
      "2024-12-31 14:51:20,038 INFO: Initializing external client\n",
      "2024-12-31 14:51:20,038 INFO: Base URL: https://c.app.hopsworks.ai:443\n",
      "2024-12-31 14:51:21,344 INFO: Python Engine initialized.\n",
      "\n",
      "Logged in to project, explore it here https://c.app.hopsworks.ai:443/p/1164449\n"
     ]
    }
   ],
   "source": [
    "load_dotenv()\n",
    "proj = hopsworks.login()\n",
    "fs = proj.get_feature_store(\"KTH_ID2223\") "
   ]
  },
  {
   "cell_type": "code",
   "execution_count": 42,
   "metadata": {},
   "outputs": [],
   "source": [
    "el_prices_fg = fs.get_feature_group(\n",
    "    name='el_prices',\n",
    "    version=1,\n",
    ")\n",
    "weather_fg = fs.get_feature_group(\n",
    "    name='weather',\n",
    "    version=1,\n",
    ")\n",
    "power_fg = fs.get_feature_group(\n",
    "    name='power',\n",
    "    version=1,\n",
    ")"
   ]
  },
  {
   "cell_type": "code",
   "execution_count": null,
   "metadata": {},
   "outputs": [],
   "source": []
  },
  {
   "cell_type": "code",
   "execution_count": 43,
   "metadata": {},
   "outputs": [
    {
     "name": "stdout",
     "output_type": "stream",
     "text": [
      "Finished: Reading data from Hopsworks, using Hopsworks Feature Query Service (1.39s) \n"
     ]
    },
    {
     "data": {
      "text/html": [
       "<div>\n",
       "<style scoped>\n",
       "    .dataframe tbody tr th:only-of-type {\n",
       "        vertical-align: middle;\n",
       "    }\n",
       "\n",
       "    .dataframe tbody tr th {\n",
       "        vertical-align: top;\n",
       "    }\n",
       "\n",
       "    .dataframe thead th {\n",
       "        text-align: right;\n",
       "    }\n",
       "</style>\n",
       "<table border=\"1\" class=\"dataframe\">\n",
       "  <thead>\n",
       "    <tr style=\"text-align: right;\">\n",
       "      <th></th>\n",
       "      <th>date</th>\n",
       "      <th>price</th>\n",
       "    </tr>\n",
       "  </thead>\n",
       "  <tbody>\n",
       "    <tr>\n",
       "      <th>0</th>\n",
       "      <td>2023-01-23 00:00:00+00:00</td>\n",
       "      <td>1.662196</td>\n",
       "    </tr>\n",
       "    <tr>\n",
       "      <th>1</th>\n",
       "      <td>2023-12-20 00:00:00+00:00</td>\n",
       "      <td>0.535002</td>\n",
       "    </tr>\n",
       "    <tr>\n",
       "      <th>2</th>\n",
       "      <td>2023-05-27 00:00:00+00:00</td>\n",
       "      <td>0.064113</td>\n",
       "    </tr>\n",
       "    <tr>\n",
       "      <th>3</th>\n",
       "      <td>2023-03-15 00:00:00+00:00</td>\n",
       "      <td>0.975358</td>\n",
       "    </tr>\n",
       "    <tr>\n",
       "      <th>4</th>\n",
       "      <td>2022-11-01 00:00:00+00:00</td>\n",
       "      <td>0.655705</td>\n",
       "    </tr>\n",
       "    <tr>\n",
       "      <th>5</th>\n",
       "      <td>2023-07-27 00:00:00+00:00</td>\n",
       "      <td>0.381928</td>\n",
       "    </tr>\n",
       "    <tr>\n",
       "      <th>6</th>\n",
       "      <td>2023-01-26 00:00:00+00:00</td>\n",
       "      <td>1.101363</td>\n",
       "    </tr>\n",
       "    <tr>\n",
       "      <th>7</th>\n",
       "      <td>2024-06-02 00:00:00+00:00</td>\n",
       "      <td>0.097737</td>\n",
       "    </tr>\n",
       "    <tr>\n",
       "      <th>8</th>\n",
       "      <td>2023-03-22 00:00:00+00:00</td>\n",
       "      <td>0.488279</td>\n",
       "    </tr>\n",
       "    <tr>\n",
       "      <th>9</th>\n",
       "      <td>2024-09-04 00:00:00+00:00</td>\n",
       "      <td>0.209347</td>\n",
       "    </tr>\n",
       "  </tbody>\n",
       "</table>\n",
       "</div>"
      ],
      "text/plain": [
       "                       date     price\n",
       "0 2023-01-23 00:00:00+00:00  1.662196\n",
       "1 2023-12-20 00:00:00+00:00  0.535002\n",
       "2 2023-05-27 00:00:00+00:00  0.064113\n",
       "3 2023-03-15 00:00:00+00:00  0.975358\n",
       "4 2022-11-01 00:00:00+00:00  0.655705\n",
       "5 2023-07-27 00:00:00+00:00  0.381928\n",
       "6 2023-01-26 00:00:00+00:00  1.101363\n",
       "7 2024-06-02 00:00:00+00:00  0.097737\n",
       "8 2023-03-22 00:00:00+00:00  0.488279\n",
       "9 2024-09-04 00:00:00+00:00  0.209347"
      ]
     },
     "execution_count": 43,
     "metadata": {},
     "output_type": "execute_result"
    }
   ],
   "source": [
    "el_prices_fg.show(10)\n",
    "# weather_fg.show(10)\n",
    "# power_fg.show(10)"
   ]
  },
  {
   "cell_type": "code",
   "execution_count": 1034,
   "metadata": {},
   "outputs": [
    {
     "name": "stdout",
     "output_type": "stream",
     "text": [
      "Finished: Reading data from Hopsworks, using Hopsworks Feature Query Service (1.43s) \n",
      "Finished: Reading data from Hopsworks, using Hopsworks Feature Query Service (0.69s) \n",
      "Finished: Reading data from Hopsworks, using Hopsworks Feature Query Service (0.63s) \n"
     ]
    }
   ],
   "source": [
    "weather_df = weather_fg.read()\n",
    "power_df = power_fg.read()\n",
    "el_prices_df = el_prices_fg.read()"
   ]
  },
  {
   "cell_type": "code",
   "execution_count": 1102,
   "metadata": {},
   "outputs": [],
   "source": [
    "merged_df = (\n",
    "    weather_df\n",
    "    .merge(power_df, on=\"date\", how=\"inner\")\n",
    "    .merge(el_prices_df, on=\"date\", how=\"inner\")\n",
    ")\n",
    "\n",
    "merged_df['date'] = pd.to_datetime(merged_df['date'])\n",
    "merged_df = merged_df.sort_values(by=\"date\").reset_index(drop=True)\n",
    "\n",
    "dates = merged_df['date']\n",
    "features = merged_df.drop(columns=['date', 'price']).iloc[:-1]\n",
    "target = merged_df['price'].iloc[1:]\n"
   ]
  },
  {
   "cell_type": "code",
   "execution_count": 188,
   "metadata": {},
   "outputs": [],
   "source": [
    "# X_train, X_test, y_train, y_test = train_test_split(features, target, test_size=0.2, random_state=100)"
   ]
  },
  {
   "cell_type": "code",
   "execution_count": 1103,
   "metadata": {},
   "outputs": [
    {
     "data": {
      "text/html": [
       "<div>\n",
       "<style scoped>\n",
       "    .dataframe tbody tr th:only-of-type {\n",
       "        vertical-align: middle;\n",
       "    }\n",
       "\n",
       "    .dataframe tbody tr th {\n",
       "        vertical-align: top;\n",
       "    }\n",
       "\n",
       "    .dataframe thead th {\n",
       "        text-align: right;\n",
       "    }\n",
       "</style>\n",
       "<table border=\"1\" class=\"dataframe\">\n",
       "  <thead>\n",
       "    <tr style=\"text-align: right;\">\n",
       "      <th></th>\n",
       "      <th>temperature_2m_mean</th>\n",
       "      <th>precipitation_sum</th>\n",
       "      <th>wind_speed_10m_max</th>\n",
       "      <th>wind_direction_10m_dominant</th>\n",
       "      <th>sunshine_duration</th>\n",
       "      <th>hydro_mw</th>\n",
       "      <th>nuclear_mw</th>\n",
       "      <th>other_mw</th>\n",
       "      <th>wind_mw</th>\n",
       "    </tr>\n",
       "  </thead>\n",
       "  <tbody>\n",
       "    <tr>\n",
       "      <th>0</th>\n",
       "      <td>0.653366</td>\n",
       "      <td>0.036923</td>\n",
       "      <td>0.261506</td>\n",
       "      <td>0.584641</td>\n",
       "      <td>0.000000</td>\n",
       "      <td>0.675887</td>\n",
       "      <td>0.706623</td>\n",
       "      <td>0.369720</td>\n",
       "      <td>0.208402</td>\n",
       "    </tr>\n",
       "    <tr>\n",
       "      <th>1</th>\n",
       "      <td>0.676117</td>\n",
       "      <td>0.027692</td>\n",
       "      <td>0.264039</td>\n",
       "      <td>0.521290</td>\n",
       "      <td>0.329079</td>\n",
       "      <td>0.588815</td>\n",
       "      <td>0.704314</td>\n",
       "      <td>0.371038</td>\n",
       "      <td>0.331940</td>\n",
       "    </tr>\n",
       "    <tr>\n",
       "      <th>2</th>\n",
       "      <td>0.631770</td>\n",
       "      <td>0.000000</td>\n",
       "      <td>0.315841</td>\n",
       "      <td>0.536078</td>\n",
       "      <td>0.423145</td>\n",
       "      <td>0.582232</td>\n",
       "      <td>0.703846</td>\n",
       "      <td>0.390193</td>\n",
       "      <td>0.380272</td>\n",
       "    </tr>\n",
       "    <tr>\n",
       "      <th>3</th>\n",
       "      <td>0.642915</td>\n",
       "      <td>0.000000</td>\n",
       "      <td>0.550507</td>\n",
       "      <td>0.403879</td>\n",
       "      <td>0.378280</td>\n",
       "      <td>0.463541</td>\n",
       "      <td>0.705697</td>\n",
       "      <td>0.363238</td>\n",
       "      <td>0.457186</td>\n",
       "    </tr>\n",
       "    <tr>\n",
       "      <th>4</th>\n",
       "      <td>0.625419</td>\n",
       "      <td>0.172308</td>\n",
       "      <td>0.474518</td>\n",
       "      <td>0.439128</td>\n",
       "      <td>0.000000</td>\n",
       "      <td>0.459842</td>\n",
       "      <td>0.706593</td>\n",
       "      <td>0.303004</td>\n",
       "      <td>0.489668</td>\n",
       "    </tr>\n",
       "    <tr>\n",
       "      <th>...</th>\n",
       "      <td>...</td>\n",
       "      <td>...</td>\n",
       "      <td>...</td>\n",
       "      <td>...</td>\n",
       "      <td>...</td>\n",
       "      <td>...</td>\n",
       "      <td>...</td>\n",
       "      <td>...</td>\n",
       "      <td>...</td>\n",
       "    </tr>\n",
       "    <tr>\n",
       "      <th>775</th>\n",
       "      <td>0.393059</td>\n",
       "      <td>0.049231</td>\n",
       "      <td>0.754938</td>\n",
       "      <td>0.773998</td>\n",
       "      <td>0.000000</td>\n",
       "      <td>0.601049</td>\n",
       "      <td>0.736722</td>\n",
       "      <td>0.207456</td>\n",
       "      <td>0.649949</td>\n",
       "    </tr>\n",
       "    <tr>\n",
       "      <th>776</th>\n",
       "      <td>0.506352</td>\n",
       "      <td>0.046154</td>\n",
       "      <td>0.947839</td>\n",
       "      <td>0.771849</td>\n",
       "      <td>0.226924</td>\n",
       "      <td>0.481619</td>\n",
       "      <td>0.735498</td>\n",
       "      <td>0.219950</td>\n",
       "      <td>0.893869</td>\n",
       "    </tr>\n",
       "    <tr>\n",
       "      <th>777</th>\n",
       "      <td>0.437348</td>\n",
       "      <td>0.000000</td>\n",
       "      <td>0.622481</td>\n",
       "      <td>0.793877</td>\n",
       "      <td>0.225706</td>\n",
       "      <td>0.591902</td>\n",
       "      <td>0.735926</td>\n",
       "      <td>0.340284</td>\n",
       "      <td>0.672421</td>\n",
       "    </tr>\n",
       "    <tr>\n",
       "      <th>778</th>\n",
       "      <td>0.443700</td>\n",
       "      <td>0.160000</td>\n",
       "      <td>0.571780</td>\n",
       "      <td>0.519946</td>\n",
       "      <td>0.000000</td>\n",
       "      <td>0.664265</td>\n",
       "      <td>0.735169</td>\n",
       "      <td>0.275513</td>\n",
       "      <td>0.616507</td>\n",
       "    </tr>\n",
       "    <tr>\n",
       "      <th>779</th>\n",
       "      <td>0.525927</td>\n",
       "      <td>0.064615</td>\n",
       "      <td>0.636439</td>\n",
       "      <td>0.656699</td>\n",
       "      <td>0.024690</td>\n",
       "      <td>0.631070</td>\n",
       "      <td>0.735428</td>\n",
       "      <td>0.172500</td>\n",
       "      <td>0.548422</td>\n",
       "    </tr>\n",
       "  </tbody>\n",
       "</table>\n",
       "<p>780 rows × 9 columns</p>\n",
       "</div>"
      ],
      "text/plain": [
       "     temperature_2m_mean  precipitation_sum  wind_speed_10m_max  \\\n",
       "0               0.653366           0.036923            0.261506   \n",
       "1               0.676117           0.027692            0.264039   \n",
       "2               0.631770           0.000000            0.315841   \n",
       "3               0.642915           0.000000            0.550507   \n",
       "4               0.625419           0.172308            0.474518   \n",
       "..                   ...                ...                 ...   \n",
       "775             0.393059           0.049231            0.754938   \n",
       "776             0.506352           0.046154            0.947839   \n",
       "777             0.437348           0.000000            0.622481   \n",
       "778             0.443700           0.160000            0.571780   \n",
       "779             0.525927           0.064615            0.636439   \n",
       "\n",
       "     wind_direction_10m_dominant  sunshine_duration  hydro_mw  nuclear_mw  \\\n",
       "0                       0.584641           0.000000  0.675887    0.706623   \n",
       "1                       0.521290           0.329079  0.588815    0.704314   \n",
       "2                       0.536078           0.423145  0.582232    0.703846   \n",
       "3                       0.403879           0.378280  0.463541    0.705697   \n",
       "4                       0.439128           0.000000  0.459842    0.706593   \n",
       "..                           ...                ...       ...         ...   \n",
       "775                     0.773998           0.000000  0.601049    0.736722   \n",
       "776                     0.771849           0.226924  0.481619    0.735498   \n",
       "777                     0.793877           0.225706  0.591902    0.735926   \n",
       "778                     0.519946           0.000000  0.664265    0.735169   \n",
       "779                     0.656699           0.024690  0.631070    0.735428   \n",
       "\n",
       "     other_mw   wind_mw  \n",
       "0    0.369720  0.208402  \n",
       "1    0.371038  0.331940  \n",
       "2    0.390193  0.380272  \n",
       "3    0.363238  0.457186  \n",
       "4    0.303004  0.489668  \n",
       "..        ...       ...  \n",
       "775  0.207456  0.649949  \n",
       "776  0.219950  0.893869  \n",
       "777  0.340284  0.672421  \n",
       "778  0.275513  0.616507  \n",
       "779  0.172500  0.548422  \n",
       "\n",
       "[780 rows x 9 columns]"
      ]
     },
     "execution_count": 1103,
     "metadata": {},
     "output_type": "execute_result"
    }
   ],
   "source": [
    "from sklearn.preprocessing import MinMaxScaler\n",
    "\n",
    "normalizer = MinMaxScaler()\n",
    "normalized_continuous_features = normalizer.fit_transform(features)\n",
    "normalized_features_df = pd.DataFrame(normalized_continuous_features, columns=features.columns)\n",
    "normalized_features_df"
   ]
  },
  {
   "cell_type": "code",
   "execution_count": 1030,
   "metadata": {},
   "outputs": [
    {
     "data": {
      "text/plain": [
       "1      0.607735\n",
       "2      0.550615\n",
       "3      0.292413\n",
       "4      0.422040\n",
       "5      0.351532\n",
       "         ...   \n",
       "776    0.270241\n",
       "777    0.735706\n",
       "778    0.384965\n",
       "779    0.230300\n",
       "780    0.324242\n",
       "Name: price, Length: 780, dtype: float64"
      ]
     },
     "execution_count": 1030,
     "metadata": {},
     "output_type": "execute_result"
    }
   ],
   "source": [
    "target"
   ]
  },
  {
   "cell_type": "markdown",
   "metadata": {},
   "source": [
    "Testing Lagged Prices"
   ]
  },
  {
   "cell_type": "code",
   "execution_count": 1093,
   "metadata": {},
   "outputs": [],
   "source": [
    "normalized_features_df['price_lag_1'] = target.shift(1).values\n",
    "normalized_features_df['price_lag_2'] = target.shift(2).values\n",
    "normalized_features_df['price_lag_3'] = target.shift(3).values"
   ]
  },
  {
   "cell_type": "code",
   "execution_count": 1123,
   "metadata": {},
   "outputs": [],
   "source": [
    "X = torch.from_numpy(normalized_features_df.values)\n",
    "y = torch.from_numpy(target.values)\n",
    "\n",
    "train_num = int(0.85 * X.shape[0])\n",
    "X_train = X[:train_num]\n",
    "X_test = X[train_num:]\n",
    "y_train = y[:train_num]\n",
    "y_test = y[train_num:]\n",
    "\n",
    "# val_num = int(0.2 * train_num)  \n",
    "# X_val = X_train[-val_num:]\n",
    "# y_val = y_train[-val_num:]\n",
    "# X_train = X_train[:-val_num]\n",
    "# y_train = y_train[:-val_num]\n"
   ]
  },
  {
   "cell_type": "code",
   "execution_count": 1025,
   "metadata": {},
   "outputs": [
    {
     "data": {
      "text/plain": [
       "torch.Size([624, 13])"
      ]
     },
     "execution_count": 1025,
     "metadata": {},
     "output_type": "execute_result"
    }
   ],
   "source": [
    "X_train.size()\n"
   ]
  },
  {
   "cell_type": "code",
   "execution_count": 1095,
   "metadata": {},
   "outputs": [],
   "source": [
    "input_features = [\n",
    "        \"temperature_2m_mean\", \"precipitation_sum\", \"wind_speed_10m_max\",\n",
    "        \"wind_direction_10m_dominant\", \"sunshine_duration\",\n",
    "        \"Hydro Water Reservoir\", \"Nuclear\", \"Other\", \"Wind Onshore\", \n",
    "]\n",
    "input_size = len(input_features)\n",
    "# model = nn.EnergyPricePredictorLSTM(input_size=input_size)"
   ]
  },
  {
   "cell_type": "code",
   "execution_count": 1105,
   "metadata": {},
   "outputs": [],
   "source": [
    "from torch.utils.data import Dataset, DataLoader\n",
    "import numpy as np\n",
    "class SequenceDataset(Dataset):\n",
    "    def __init__(self, X, y, seq_length):\n",
    "        self.X = X\n",
    "        self.y = y\n",
    "        self.seq_length = seq_length\n",
    "\n",
    "    def __len__(self):\n",
    "        return len(self.X) // self.seq_length\n",
    "\n",
    "    def __getitem__(self, idx):\n",
    "        x_seq = self.X[idx:idx + self.seq_length]\n",
    "        y_hist = self.y[idx:idx + self.seq_length].reshape(-1, 1) \n",
    "        x_combined = torch.tensor(np.hstack((x_seq, y_hist)), dtype=torch.float32)\n",
    "        y_target = torch.tensor(self.y[idx + self.seq_length], dtype=torch.float32)\n",
    "        return x_combined, y_target\n",
    "\n",
    "\n",
    "        # y_seq = self.y[idx:idx + self.seq_length].unsqueeze(-1)\n",
    "        # y_target = self.y[idx + self.seq_length]\n",
    "        # return torch.tensor(y_seq, dtype=torch.float32), torch.tensor(y_target, dtype=torch.float32)\n",
    "\n"
   ]
  },
  {
   "cell_type": "code",
   "execution_count": 1124,
   "metadata": {},
   "outputs": [],
   "source": [
    "seq_length = 3\n",
    "input_size = 10\n",
    "batch_size = 16\n",
    "train_dataset = SequenceDataset(X_train, y_train, seq_length)\n",
    "test_dataset = SequenceDataset(X_test, y_test, seq_length)\n",
    "\n",
    "train_loader = DataLoader(train_dataset, batch_size=batch_size)\n",
    "test_loader = DataLoader(test_dataset, batch_size=batch_size)\n",
    "\n",
    "# val_dataset = SequenceDataset(X_val, y_val, seq_length)\n",
    "# val_loader = DataLoader(val_dataset, batch_size=batch_size)\n"
   ]
  },
  {
   "cell_type": "code",
   "execution_count": 1125,
   "metadata": {},
   "outputs": [
    {
     "name": "stdout",
     "output_type": "stream",
     "text": [
      "torch.Size([16, 3, 10])\n",
      "torch.Size([16])\n",
      "torch.Size([16, 3, 10])\n",
      "torch.Size([16])\n"
     ]
    }
   ],
   "source": [
    "for i, (X, y) in enumerate(train_loader):\n",
    "    print(X.size())\n",
    "    print(y.size())\n",
    "    break\n",
    "\n",
    "for i, (X, y) in enumerate(test_loader):\n",
    "    print(X.size())\n",
    "    print(y.size())\n",
    "    break"
   ]
  },
  {
   "cell_type": "code",
   "execution_count": 1126,
   "metadata": {},
   "outputs": [],
   "source": [
    "hidden_size = 64        \n",
    "num_layers = 2     \n",
    "output_size = 1"
   ]
  },
  {
   "cell_type": "code",
   "execution_count": 1127,
   "metadata": {},
   "outputs": [
    {
     "name": "stdout",
     "output_type": "stream",
     "text": [
      "Epoch 1, Training Loss: 2.3059\n",
      "Epoch 26, Training Loss: 0.8655\n",
      "Epoch 51, Training Loss: 0.3890\n",
      "Epoch 76, Training Loss: 0.3131\n",
      "Epoch 101, Training Loss: 0.3076\n",
      "Epoch 126, Training Loss: 0.2963\n",
      "Epoch 151, Training Loss: 0.2800\n",
      "Epoch 176, Training Loss: 0.2913\n",
      "Epoch 201, Training Loss: 0.2568\n",
      "Epoch 226, Training Loss: 0.2615\n",
      "Epoch 251, Training Loss: 0.2411\n",
      "Epoch 276, Training Loss: 0.2493\n",
      "Epoch 301, Training Loss: 0.2004\n",
      "Epoch 326, Training Loss: 0.1991\n",
      "Epoch 351, Training Loss: 0.1987\n",
      "Epoch 376, Training Loss: 0.1653\n",
      "Epoch 401, Training Loss: 0.1773\n",
      "Epoch 426, Training Loss: 0.1710\n",
      "Epoch 451, Training Loss: 0.1548\n",
      "Epoch 476, Training Loss: 0.1626\n",
      "Epoch 501, Training Loss: 0.1601\n",
      "Epoch 526, Training Loss: 0.1582\n",
      "Epoch 551, Training Loss: 0.1663\n",
      "Epoch 576, Training Loss: 0.1680\n",
      "Epoch 601, Training Loss: 0.1613\n",
      "Epoch 626, Training Loss: 0.1471\n",
      "Epoch 651, Training Loss: 0.1563\n",
      "Epoch 676, Training Loss: 0.1694\n",
      "Epoch 701, Training Loss: 0.1634\n",
      "Epoch 726, Training Loss: 0.1377\n",
      "Epoch 751, Training Loss: 0.1411\n",
      "Epoch 776, Training Loss: 0.1471\n",
      "Epoch 801, Training Loss: 0.1408\n",
      "Epoch 826, Training Loss: 0.1409\n",
      "Epoch 851, Training Loss: 0.1433\n",
      "Epoch 876, Training Loss: 0.1382\n",
      "Epoch 901, Training Loss: 0.1406\n",
      "Epoch 926, Training Loss: 0.1337\n",
      "Epoch 951, Training Loss: 0.1328\n",
      "Epoch 976, Training Loss: 0.1282\n",
      "MSE: 0.02925511843400771\n",
      "R squared: -0.16140554787330252\n"
     ]
    }
   ],
   "source": [
    "import torch.optim as optim\n",
    "import torch.nn as nn\n",
    "\n",
    "class PriceLSTM(nn.Module):\n",
    "    def __init__(self, input_size, hidden_size, num_layers, output_size):\n",
    "        super(PriceLSTM, self).__init__()\n",
    "        self.hidden_size = hidden_size\n",
    "        self.num_layers = num_layers\n",
    "        self.lstm = nn.LSTM(input_size, hidden_size, num_layers, batch_first=True)\n",
    "        self.fc = nn.Linear(hidden_size, output_size)\n",
    "        self.dropout = nn.Dropout(p=0.4)\n",
    "    \n",
    "    def forward(self, x):\n",
    "        h0 = torch.zeros(self.num_layers, x.size(0), self.hidden_size).to(x.device)  \n",
    "        c0 = torch.zeros(self.num_layers, x.size(0), self.hidden_size).to(x.device)  \n",
    "        out, _ = self.lstm(x, (h0, c0))  \n",
    "        out = self.dropout(out)\n",
    "        out = self.fc(out[:, -1, :]) \n",
    "        return out\n",
    "\n",
    "num_epochs = 1000\n",
    "model = PriceLSTM(input_size, hidden_size, num_layers, output_size)\n",
    "criterion = nn.MSELoss()\n",
    "optimizer = optim.Adam(model.parameters(), lr=1e-4)\n",
    "train_loss_list = []\n",
    "for epoch in range(num_epochs):\n",
    "    model.train()\n",
    "    train_loss = 0\n",
    "    for X_batch, y_batch in train_loader:\n",
    "        optimizer.zero_grad()\n",
    "        y_pred = model(X_batch)\n",
    "        loss = criterion(y_pred.squeeze(), y_batch)\n",
    "        loss.backward()\n",
    "        optimizer.step()\n",
    "        train_loss += loss.item()\n",
    "    \n",
    "\n",
    "    train_loss_list.append(train_loss/len(train_loader))\n",
    "    if epoch % 25 == 0:\n",
    "        print(f\"Epoch {epoch+1}, Training Loss: {train_loss/len(train_loader):.4f}\")\n",
    "\n",
    "    # if epoch % 20 == 0:\n",
    "    #     model.eval()\n",
    "\n",
    "    #     val_loss = 0\n",
    "    #     with torch.no_grad():\n",
    "    #         for X_batch, y_batch in val_loader:\n",
    "    #             y_pred = model(X_batch)\n",
    "    #             val_loss += loss.item()\n",
    "        \n",
    "    #     print(f\"Epoch {epoch+1}, Training Loss: {train_loss/len(train_loader):.4f}, Validation Loss: {val_loss/len(val_loader)}\")\n",
    "\n",
    "from sklearn.metrics import mean_squared_error, r2_score\n",
    "\n",
    "model.eval()\n",
    "test_loss = 0\n",
    "y_preds = []\n",
    "y_true = []\n",
    "with torch.no_grad():\n",
    "    for X_batch, y_batch in test_loader:\n",
    "        y_pred = model(X_batch)\n",
    "        y_preds += y_pred.squeeze().tolist()\n",
    "        y_true += y_batch.tolist()\n",
    "\n",
    "mse = mean_squared_error(y_true, y_preds)\n",
    "print(\"MSE:\", mse)\n",
    "\n",
    "r2 = r2_score(y_true, y_preds)\n",
    "print(\"R squared:\", r2)\n",
    "# 0.15 0.12 0.24 / 3x64 \n",
    "#      0.13          / 3x128\n",
    "#      0.16          / 3x32\n",
    "#      0.10   0.19    0.35 0.274  / 2x64\n",
    "# 0.102 "
   ]
  },
  {
   "cell_type": "code",
   "execution_count": 1117,
   "metadata": {},
   "outputs": [
    {
     "name": "stdout",
     "output_type": "stream",
     "text": [
      "Target Variance: 0.012120836186714877\n"
     ]
    }
   ],
   "source": [
    "target_variance = np.var(y_true)\n",
    "print(\"Target Variance:\", target_variance)\n"
   ]
  },
  {
   "cell_type": "code",
   "execution_count": 1118,
   "metadata": {},
   "outputs": [
    {
     "name": "stdout",
     "output_type": "stream",
     "text": [
      "Target Mean: 0.11867289241546622\n"
     ]
    }
   ],
   "source": [
    "target_mean = np.mean(y_true)\n",
    "print(\"Target Mean:\", target_mean)\n"
   ]
  },
  {
   "cell_type": "code",
   "execution_count": 1129,
   "metadata": {},
   "outputs": [
    {
     "name": "stdout",
     "output_type": "stream",
     "text": [
      "[0.32315653562545776, 0.25238165259361267, 0.25038230419158936, 0.22440654039382935, 0.28922802209854126, 0.36193370819091797, 0.19421449303627014, 0.2526513338088989, 0.21887004375457764, 0.14466416835784912, 0.12356337904930115, 0.10380619019269943, 0.1399623602628708, 0.2858304977416992, 0.5071783661842346, 0.3986421823501587, 0.47549405694007874, 0.20019099116325378, 0.2068873792886734, 0.1932094246149063, 0.19209063053131104, 0.1959439516067505, 0.08877623826265335, 0.09596601128578186, 0.11146038770675659, 0.17437508702278137, 0.15514889359474182, 0.20192950963974, 0.17841124534606934, 0.3363396227359772, 0.13258112967014313, 0.16613391041755676, 0.19559583067893982, 0.29330918192863464, 0.22525247931480408, 0.4076455235481262, 0.4698227643966675, 0.4820707142353058, 0.2088499367237091]\n",
      "[0.04659541696310043, 0.024965833872556686, 0.014926666393876076, 0.10545500367879868, 0.46143290400505066, 0.28074583411216736, 0.20934750139713287, 0.2059720903635025, 0.11346250027418137, 0.07605333626270294, 0.04117708280682564, 0.015957916155457497, 0.007927916944026947, 0.1382116675376892, 0.07393166422843933, 0.2038566619157791, 0.07044333219528198, 0.09565208107233047, 0.4261316657066345, 0.3946758210659027, 0.2826724946498871, 0.1870425045490265, 0.17611292004585266, 0.09169375151395798, 0.17712458968162537, 0.21642166376113892, 0.2036779224872589, 0.08752249926328659, 0.13366208970546722, 0.0705450028181076, 0.06853000074625015, 0.07089708000421524, 0.24656875431537628, 0.33079665899276733, 0.6155470609664917, 0.5082803964614868, 0.6039012670516968, 0.30188000202178955, 0.28286126255989075]\n"
     ]
    }
   ],
   "source": [
    "print(y_preds)\n",
    "print(y_true)"
   ]
  },
  {
   "cell_type": "code",
   "execution_count": 1096,
   "metadata": {},
   "outputs": [
    {
     "name": "stdout",
     "output_type": "stream",
     "text": [
      "MSE: 0.07517904554145154\n",
      "R squared: 0.5644445593877336\n"
     ]
    }
   ],
   "source": [
    "from xgboost import XGBRegressor\n",
    "from sklearn.metrics import mean_squared_error, r2_score\n",
    "\n",
    "xgb_model = XGBRegressor(n_estimators=1000, learning_rate=0.01)\n",
    "xgb_model.fit(X_train, y_train)\n",
    "y_pred = xgb_model.predict(X_test)\n",
    "mse = mean_squared_error(y_test, y_pred)\n",
    "print(\"MSE:\", mse)\n",
    "\n",
    "r2 = r2_score(y_test, y_pred)\n",
    "print(\"R squared:\", r2)\n",
    "\n",
    "eval_dict = { \n",
    "    \"MSE\": str(mse),\n",
    "    \"R squared\": str(r2),\n",
    "}"
   ]
  },
  {
   "cell_type": "code",
   "execution_count": 1097,
   "metadata": {},
   "outputs": [
    {
     "name": "stdout",
     "output_type": "stream",
     "text": [
      "[0.1578804850578308, 0.16040122509002686, 0.15100912749767303, 0.22404193878173828, 0.3151703476905823, 0.2218434363603592, 0.26445090770721436, 0.24221839010715485, 0.3177732527256012, 0.24816302955150604, 0.23305310308933258, 0.21571038663387299, 0.29243433475494385, 0.38481080532073975, 0.21342813968658447, 0.28036263585090637, 0.2965145707130432, 0.36680641770362854, 0.11406612396240234, 0.3845432996749878, 0.2515608072280884, 0.2049407809972763, 0.1070210263133049, 0.15198741853237152, 0.16504955291748047, 0.25059863924980164, 0.29119640588760376, 0.2879432439804077, 0.23039545118808746, 0.12243174016475677, 0.11377958953380585, 0.1857910454273224, 0.12101051211357117, 0.16305316984653473, 0.1647341102361679, 0.0660918802022934, 0.1433643400669098, 0.04634382575750351, 0.17173747718334198, 0.07695344090461731, 0.18522004783153534, 0.17565558850765228, 0.18228211998939514, 0.13385161757469177, 0.061195164918899536, 0.22207963466644287, 0.11822661757469177, 0.32753443717956543, 0.19863487780094147, 0.1805162876844406, 0.23794133961200714, 0.23275157809257507, 0.3042422831058502, 0.14830563962459564, 0.0025571470614522696, 0.04577763006091118, 0.1228446289896965, 0.08340326696634293, 0.25569668412208557, 0.09726433455944061, 0.2116517275571823, 0.5136847496032715, 0.2990565896034241, 0.3481503427028656, 0.22065547108650208, 0.3334549069404602, 0.22643794119358063, 0.1905907839536667, 0.14719586074352264, 0.15640884637832642, 0.07763898372650146, 0.1776907742023468, 0.10112340748310089, 0.0827244445681572, 0.3970934748649597, 0.17290061712265015, 0.31520599126815796, 0.6680083274841309, 0.31548088788986206, 0.42344018816947937, 0.2395501732826233, 0.24592190980911255, 0.45857882499694824, 0.24598515033721924, 0.20767535269260406, 0.21184095740318298, 0.045504938811063766, 0.11962134391069412, 0.0761011391878128, 0.4633257985115051, 0.5210233926773071, 0.334554523229599, 0.11066792905330658, 0.08277148008346558, 0.05574682727456093, 0.05357009917497635, 0.09219266474246979, 0.11826125532388687, 0.03735426813364029, 0.3065626621246338, 0.07743662595748901, 0.4487003684043884, 0.12327473610639572, 0.3325468897819519, 0.4310998320579529, 0.27166715264320374, 0.11481979489326477, 0.11898595094680786, 0.44783562421798706, 0.43011584877967834, 0.7768295407295227, 0.4472237229347229, 0.45287516713142395, 0.5686266422271729, 0.5048167109489441, 0.5521872043609619, 0.5361137390136719, 0.7451699376106262, 1.1201304197311401, 0.5304593443870544, 0.591587245464325, 0.34992802143096924, 0.1062951311469078, 0.438385933637619, 0.6990423202514648, 1.099897861480713, 0.6439259648323059, 0.8915514945983887, 0.9409075379371643, 0.5727778077125549, 0.19653905928134918, 0.22867242991924286, 0.3777233958244324, 0.8598424196243286, 1.0335538387298584, 0.7158584594726562, 0.15891033411026, 0.30999889969825745, 0.3342726528644562, 1.141558051109314, 1.092984914779663, 0.5064517259597778, 0.4818922281265259, 0.5804982781410217, 0.5830941200256348, 0.7479891777038574, 1.002524733543396, 1.9408787488937378, 1.9848963022232056, 1.2557957172393799, 0.2878587543964386, 0.39133012294769287, 0.3916701078414917, 0.6844384074211121, 0.32262271642684937, 0.23126593232154846]\n",
      "[0.1722020833333333, 0.2022375, 0.18591625, 0.1883979166666667, 0.2627529166666666, 0.2527345833333333, 0.2436029166666666, 0.2651425, 0.2322075, 0.2408766666666666, 0.0353704166666666, 0.0461104166666666, 0.152695, 0.0861070833333333, 0.0773445833333333, 0.1669195833333333, 0.1995808333333333, 0.1972558333333333, 0.2884691666666666, 0.2562970833333333, 0.1921279166666666, 0.0901220833333333, 0.0490070833333333, -0.07195875, -0.0789816666666666, 0.1379041666666666, 0.23176125, 0.2023916666666666, 0.0999179166666666, 0.0913195833333333, 0.1288079166666666, 0.1078095833333333, 0.0930245833333333, 0.0629233333333333, 0.0305816666666666, 0.0549116666666666, 0.0064558333333333, -0.0598720833333333, -0.05232875, -0.0054229166666666, 0.02532125, 0.0392820833333333, 0.0465954166666666, 0.0249658333333333, 0.0149266666666666, 0.105455, 0.4614329166666667, 0.2807458333333333, 0.2093475, 0.2059720833333333, 0.1134625, 0.0760533333333333, 0.0411770833333333, 0.0159579166666666, 0.0079279166666666, 0.1382116666666666, 0.0739316666666666, 0.2038566666666666, 0.0704433333333333, 0.0956520833333333, 0.4261316666666666, 0.3946758333333333, 0.2826725, 0.1870425, 0.1761129166666666, 0.09169375, 0.1771245833333333, 0.2164216666666666, 0.2036779166666666, 0.0875225, 0.1336620833333333, 0.070545, 0.06853, 0.0708970833333333, 0.24656875, 0.3307966666666667, 0.6155470833333333, 0.5082804166666667, 0.60390125, 0.30188, 0.28286125, 0.4417525, 0.3312783333333333, 0.0908958333333333, 0.1728558333333333, 0.0735429166666666, 0.1113708333333333, 0.1382041666666666, 0.4378441666666666, 0.4962695833333333, 0.1489166666666666, 0.0223829166666666, 0.1123458333333333, 0.0548345833333333, 0.01172375, -0.0112924999999999, 0.036265, 0.0057820833333333, 0.2842366666666667, 0.225065, 0.5002495833333334, -0.0044192, 0.1074833333333333, 0.483795, 0.0918366666666666, 0.1311616666666666, 0.0324504166666666, 0.09575, 0.05667, 0.9974720833333334, 0.90026875, 0.9004404166666666, 0.76818625, 0.39891875, 0.7560875, 0.9373220833333334, 1.0894370833333331, 1.3467133333333334, 0.6673691666666667, 0.4021591666666666, 0.1950154166666666, 0.01695, 0.1841925, 0.92321375, 1.395010833333333, 0.9178320833333332, 1.08638125, 1.3136391666666667, 0.63119, 0.0515491666666666, 0.1462670833333333, 0.2763516666666666, 1.090235, 1.1072841666666666, 1.0783116666666668, 0.3049370833333333, 0.2232491666666666, 0.2585208333333333, 1.0650804166666668, 1.65598625, 0.6936058333333333, 0.4553525, 0.5208804166666666, 0.6291208333333334, 0.7726504166666667, 0.9673645833333334, 2.277274583333333, 2.44152, 1.2624733333333331, 0.2317570833333333, 0.2736725, 0.2702408333333333, 0.7357058333333333, 0.384965, 0.2303004166666666, 0.3242425]\n"
     ]
    }
   ],
   "source": [
    "print(y_pred.tolist())\n",
    "print(y_test.tolist())"
   ]
  },
  {
   "cell_type": "markdown",
   "metadata": {},
   "source": [
    "Upload model to Hopsworks"
   ]
  },
  {
   "cell_type": "code",
   "execution_count": 1098,
   "metadata": {},
   "outputs": [],
   "source": [
    "model_dir = \"price_prediction_model\"\n",
    "if not os.path.exists(model_dir):\n",
    "    os.mkdir(model_dir)"
   ]
  },
  {
   "cell_type": "code",
   "execution_count": 1099,
   "metadata": {},
   "outputs": [],
   "source": [
    "xgb_model.save_model(model_dir + \"/model.json\")"
   ]
  },
  {
   "cell_type": "code",
   "execution_count": 1100,
   "metadata": {},
   "outputs": [
    {
     "data": {
      "application/vnd.jupyter.widget-view+json": {
       "model_id": "4abc29e1a3454a1ca39561d50f8b7aa3",
       "version_major": 2,
       "version_minor": 0
      },
      "text/plain": [
       "  0%|          | 0/6 [00:00<?, ?it/s]"
      ]
     },
     "metadata": {},
     "output_type": "display_data"
    },
    {
     "data": {
      "application/vnd.jupyter.widget-view+json": {
       "model_id": "2a6ff3beecba45a187d7fed815f2183f",
       "version_major": 2,
       "version_minor": 0
      },
      "text/plain": [
       "Uploading: 0.000%|          | 0/3921325 elapsed<00:00 remaining<?"
      ]
     },
     "metadata": {},
     "output_type": "display_data"
    },
    {
     "data": {
      "application/vnd.jupyter.widget-view+json": {
       "model_id": "2cbacea19544419fa0ddf09b8515555f",
       "version_major": 2,
       "version_minor": 0
      },
      "text/plain": [
       "Uploading: 0.000%|          | 0/20 elapsed<00:00 remaining<?"
      ]
     },
     "metadata": {},
     "output_type": "display_data"
    },
    {
     "data": {
      "application/vnd.jupyter.widget-view+json": {
       "model_id": "2e349940104347338958341a180e76f4",
       "version_major": 2,
       "version_minor": 0
      },
      "text/plain": [
       "Uploading: 0.000%|          | 0/1162 elapsed<00:00 remaining<?"
      ]
     },
     "metadata": {},
     "output_type": "display_data"
    },
    {
     "name": "stdout",
     "output_type": "stream",
     "text": [
      "Model created, explore it at https://c.app.hopsworks.ai:443/p/1164449/models/price_prediction_model/3\n"
     ]
    },
    {
     "data": {
      "text/plain": [
       "Model(name: 'price_prediction_model', version: 3)"
      ]
     },
     "execution_count": 1100,
     "metadata": {},
     "output_type": "execute_result"
    }
   ],
   "source": [
    "from hsml.schema import Schema\n",
    "from hsml.model_schema import ModelSchema\n",
    "\n",
    "input_schema = Schema(normalized_features_df)\n",
    "output_schema = Schema(target)\n",
    "\n",
    "model_schema = ModelSchema(input_schema=input_schema, output_schema=output_schema)\n",
    "\n",
    "mr = proj.get_model_registry()\n",
    "\n",
    "price_prediction_model = mr.python.create_model(\n",
    "    name=\"price_prediction_model\", \n",
    "    metrics=eval_dict,\n",
    "    model_schema=model_schema,\n",
    "    input_example=target.sample().values, \n",
    "    description=\"Electricity Price Predicition Model\",\n",
    ")\n",
    "\n",
    "price_prediction_model.save(model_dir)"
   ]
  }
 ],
 "metadata": {
  "kernelspec": {
   "display_name": "Python 3",
   "language": "python",
   "name": "python3"
  },
  "language_info": {
   "codemirror_mode": {
    "name": "ipython",
    "version": 3
   },
   "file_extension": ".py",
   "mimetype": "text/x-python",
   "name": "python",
   "nbconvert_exporter": "python",
   "pygments_lexer": "ipython3",
   "version": "3.9.4"
  }
 },
 "nbformat": 4,
 "nbformat_minor": 2
}
