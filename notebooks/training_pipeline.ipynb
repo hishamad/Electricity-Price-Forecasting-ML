{
 "cells": [
  {
   "cell_type": "code",
   "execution_count": 1,
   "metadata": {},
   "outputs": [],
   "source": [
    "import requests\n",
    "import pandas as pd\n",
    "import hopsworks\n",
    "import datetime\n",
    "import matplotlib.pyplot as plt\n",
    "import json\n",
    "import re\n",
    "import os\n",
    "import sys\n",
    "from dotenv import load_dotenv\n",
    "from datetime import datetime, timedelta\n",
    "import warnings\n",
    "sys.path.append(os.path.abspath(os.path.join('..', 'functions')))\n",
    "import util\n",
    "sys.path.append(os.path.abspath(os.path.join('..', 'model')))\n",
    "import nn\n",
    "import torch\n",
    "from sklearn.preprocessing import StandardScaler\n",
    "\n",
    "\n",
    "warnings.filterwarnings(\"ignore\")"
   ]
  },
  {
   "cell_type": "code",
   "execution_count": 3,
   "metadata": {},
   "outputs": [
    {
     "name": "stdout",
     "output_type": "stream",
     "text": [
      "2024-12-26 15:05:53,104 INFO: Closing external client and cleaning up certificates.\n",
      "Connection closed.\n",
      "2024-12-26 15:05:53,111 INFO: Initializing external client\n",
      "2024-12-26 15:05:53,111 INFO: Base URL: https://c.app.hopsworks.ai:443\n",
      "\n",
      "Multiple projects found. \n",
      "\n",
      "\t (1) KTH_ID2223\n",
      "\t (2) simon003\n",
      "2024-12-26 15:05:56,702 INFO: Python Engine initialized.\n",
      "\n",
      "Logged in to project, explore it here https://c.app.hopsworks.ai:443/p/1164449\n"
     ]
    }
   ],
   "source": [
    "load_dotenv()\n",
    "proj = hopsworks.login()\n",
    "fs = proj.get_feature_store(\"KTH_ID2223\") "
   ]
  },
  {
   "cell_type": "code",
   "execution_count": 4,
   "metadata": {},
   "outputs": [],
   "source": [
    "el_prices_fg = fs.get_feature_group(\n",
    "    name='el_prices',\n",
    "    version=1,\n",
    ")\n",
    "weather_fg = fs.get_feature_group(\n",
    "    name='weather',\n",
    "    version=1,\n",
    ")\n",
    "power_fg = fs.get_feature_group(\n",
    "    name='power',\n",
    "    version=1,\n",
    ")"
   ]
  },
  {
   "cell_type": "code",
   "execution_count": 13,
   "metadata": {},
   "outputs": [
    {
     "name": "stdout",
     "output_type": "stream",
     "text": [
      "Finished: Reading data from Hopsworks, using Hopsworks Feature Query Service (0.96s) \n"
     ]
    },
    {
     "data": {
      "text/html": [
       "<div>\n",
       "<style scoped>\n",
       "    .dataframe tbody tr th:only-of-type {\n",
       "        vertical-align: middle;\n",
       "    }\n",
       "\n",
       "    .dataframe tbody tr th {\n",
       "        vertical-align: top;\n",
       "    }\n",
       "\n",
       "    .dataframe thead th {\n",
       "        text-align: right;\n",
       "    }\n",
       "</style>\n",
       "<table border=\"1\" class=\"dataframe\">\n",
       "  <thead>\n",
       "    <tr style=\"text-align: right;\">\n",
       "      <th></th>\n",
       "      <th>date</th>\n",
       "      <th>hydro_mw</th>\n",
       "      <th>nuclear_mw</th>\n",
       "      <th>other_mw</th>\n",
       "      <th>wind_mw</th>\n",
       "    </tr>\n",
       "  </thead>\n",
       "  <tbody>\n",
       "    <tr>\n",
       "      <th>0</th>\n",
       "      <td>2023-01-23 00:00:00+00:00</td>\n",
       "      <td>8882.291667</td>\n",
       "      <td>5787.791667</td>\n",
       "      <td>1647.541667</td>\n",
       "      <td>5956.958333</td>\n",
       "    </tr>\n",
       "    <tr>\n",
       "      <th>1</th>\n",
       "      <td>2023-12-20 00:00:00+00:00</td>\n",
       "      <td>8903.708333</td>\n",
       "      <td>6893.833333</td>\n",
       "      <td>927.458333</td>\n",
       "      <td>5399.708333</td>\n",
       "    </tr>\n",
       "    <tr>\n",
       "      <th>2</th>\n",
       "      <td>2023-05-27 00:00:00+00:00</td>\n",
       "      <td>5346.500000</td>\n",
       "      <td>3149.750000</td>\n",
       "      <td>490.375000</td>\n",
       "      <td>3948.500000</td>\n",
       "    </tr>\n",
       "    <tr>\n",
       "      <th>3</th>\n",
       "      <td>2023-03-15 00:00:00+00:00</td>\n",
       "      <td>9685.041667</td>\n",
       "      <td>5773.375000</td>\n",
       "      <td>1438.291667</td>\n",
       "      <td>5425.250000</td>\n",
       "    </tr>\n",
       "    <tr>\n",
       "      <th>4</th>\n",
       "      <td>2022-11-01 00:00:00+00:00</td>\n",
       "      <td>8805.291667</td>\n",
       "      <td>5699.208333</td>\n",
       "      <td>897.958333</td>\n",
       "      <td>2831.708333</td>\n",
       "    </tr>\n",
       "    <tr>\n",
       "      <th>5</th>\n",
       "      <td>2023-07-27 00:00:00+00:00</td>\n",
       "      <td>5855.166667</td>\n",
       "      <td>5868.750000</td>\n",
       "      <td>421.916667</td>\n",
       "      <td>1487.625000</td>\n",
       "    </tr>\n",
       "    <tr>\n",
       "      <th>6</th>\n",
       "      <td>2023-01-26 00:00:00+00:00</td>\n",
       "      <td>8646.083333</td>\n",
       "      <td>5786.083333</td>\n",
       "      <td>1341.875000</td>\n",
       "      <td>6692.166667</td>\n",
       "    </tr>\n",
       "    <tr>\n",
       "      <th>7</th>\n",
       "      <td>2024-06-02 00:00:00+00:00</td>\n",
       "      <td>6023.583333</td>\n",
       "      <td>5273.750000</td>\n",
       "      <td>540.583333</td>\n",
       "      <td>2113.666667</td>\n",
       "    </tr>\n",
       "    <tr>\n",
       "      <th>8</th>\n",
       "      <td>2023-03-22 00:00:00+00:00</td>\n",
       "      <td>8556.833333</td>\n",
       "      <td>5767.875000</td>\n",
       "      <td>1150.500000</td>\n",
       "      <td>4408.458333</td>\n",
       "    </tr>\n",
       "    <tr>\n",
       "      <th>9</th>\n",
       "      <td>2024-09-04 00:00:00+00:00</td>\n",
       "      <td>7250.458333</td>\n",
       "      <td>4541.625000</td>\n",
       "      <td>364.666667</td>\n",
       "      <td>4651.583333</td>\n",
       "    </tr>\n",
       "  </tbody>\n",
       "</table>\n",
       "</div>"
      ],
      "text/plain": [
       "                       date     hydro_mw   nuclear_mw     other_mw  \\\n",
       "0 2023-01-23 00:00:00+00:00  8882.291667  5787.791667  1647.541667   \n",
       "1 2023-12-20 00:00:00+00:00  8903.708333  6893.833333   927.458333   \n",
       "2 2023-05-27 00:00:00+00:00  5346.500000  3149.750000   490.375000   \n",
       "3 2023-03-15 00:00:00+00:00  9685.041667  5773.375000  1438.291667   \n",
       "4 2022-11-01 00:00:00+00:00  8805.291667  5699.208333   897.958333   \n",
       "5 2023-07-27 00:00:00+00:00  5855.166667  5868.750000   421.916667   \n",
       "6 2023-01-26 00:00:00+00:00  8646.083333  5786.083333  1341.875000   \n",
       "7 2024-06-02 00:00:00+00:00  6023.583333  5273.750000   540.583333   \n",
       "8 2023-03-22 00:00:00+00:00  8556.833333  5767.875000  1150.500000   \n",
       "9 2024-09-04 00:00:00+00:00  7250.458333  4541.625000   364.666667   \n",
       "\n",
       "       wind_mw  \n",
       "0  5956.958333  \n",
       "1  5399.708333  \n",
       "2  3948.500000  \n",
       "3  5425.250000  \n",
       "4  2831.708333  \n",
       "5  1487.625000  \n",
       "6  6692.166667  \n",
       "7  2113.666667  \n",
       "8  4408.458333  \n",
       "9  4651.583333  "
      ]
     },
     "execution_count": 13,
     "metadata": {},
     "output_type": "execute_result"
    }
   ],
   "source": [
    "#el_prices_fg.show(10)\n",
    "#weather_fg.show(10)\n",
    "power_fg.show(10)"
   ]
  },
  {
   "cell_type": "code",
   "execution_count": 5,
   "metadata": {},
   "outputs": [
    {
     "name": "stdout",
     "output_type": "stream",
     "text": [
      "Finished: Reading data from Hopsworks, using Hopsworks Feature Query Service (0.70s) \n",
      "Finished: Reading data from Hopsworks, using Hopsworks Feature Query Service (0.61s) \n",
      "Finished: Reading data from Hopsworks, using Hopsworks Feature Query Service (0.47s) \n"
     ]
    }
   ],
   "source": [
    "weather_df = weather_fg.read()\n",
    "power_df = power_fg.read()\n",
    "el_prices_df = el_prices_fg.read()\n"
   ]
  },
  {
   "cell_type": "code",
   "execution_count": 6,
   "metadata": {},
   "outputs": [
    {
     "name": "stdout",
     "output_type": "stream",
     "text": [
      "   temperature_2m_mean  precipitation_sum  wind_speed_10m_max  \\\n",
      "0             0.202644          -0.192797           -0.778611   \n",
      "1             0.305440          -0.276450           -0.764935   \n",
      "2             0.105065          -0.527408           -0.485279   \n",
      "3             0.155420          -0.527408            0.781580   \n",
      "4             0.076366           1.034108            0.371348   \n",
      "\n",
      "   wind_direction_10m_dominant  sunshine_duration  hydro_mw  nuclear_mw  \\\n",
      "0                     0.141250          -1.197800  0.587802    0.306440   \n",
      "1                    -0.103051          -0.240993  0.198458    0.295679   \n",
      "2                    -0.046024           0.032508  0.169019    0.293499   \n",
      "3                    -0.555824          -0.097937 -0.361710    0.302126   \n",
      "4                    -0.419893          -1.197800 -0.378251    0.306301   \n",
      "\n",
      "   other_mw   wind_mw  month  \n",
      "0  0.225771 -0.565631     11  \n",
      "1  0.231565  0.028540     11  \n",
      "2  0.315731  0.260998     11  \n",
      "3  0.197290  0.630926     11  \n",
      "4 -0.067386  0.787152     11  \n"
     ]
    }
   ],
   "source": [
    "\n",
    "merged_df = (\n",
    "    weather_df\n",
    "    .merge(power_df, on=\"date\", how=\"inner\")\n",
    "    .merge(el_prices_df, on=\"date\", how=\"inner\")\n",
    ")\n",
    "\n",
    "merged_df['date'] = pd.to_datetime(merged_df['date'])\n",
    "merged_df = merged_df.sort_values(by=\"date\").reset_index(drop=True)\n",
    "merged_df['month'] = merged_df['date'].dt.month\n",
    "\n",
    "dates = merged_df['date']\n",
    "features = merged_df.drop(columns=['date', 'price'])\n",
    "target = merged_df['price']\n",
    "\n",
    "scaler = StandardScaler()\n",
    "continuous_features = features.drop(columns=['month'])\n",
    "scaled_continuous_features = scaler.fit_transform(continuous_features)\n",
    "scaled_features_df = pd.DataFrame(scaled_continuous_features, columns=continuous_features.columns)\n",
    "scaled_features_df['month'] = features['month'].values\n",
    "\n",
    "print(scaled_features_df.head())"
   ]
  },
  {
   "cell_type": "code",
   "execution_count": 7,
   "metadata": {},
   "outputs": [],
   "source": [
    "input_features = [\n",
    "        \"temperature_2m_mean\", \"precipitation_sum\", \"wind_speed_10m_max\",\n",
    "        \"wind_direction_10m_dominant\", \"sunshine_duration\",\n",
    "        \"Hydro Water Reservoir\", \"Nuclear\", \"Other\", \"Wind Onshore\", \"month\"\n",
    "]\n",
    "input_size = len(input_features)\n",
    "model = nn.EnergyPricePredictorLSTM(input_size=input_size)\n"
   ]
  },
  {
   "cell_type": "code",
   "execution_count": null,
   "metadata": {},
   "outputs": [],
   "source": [
    "start_date = \"2022-11-01\"\n",
    "end_date = \"2024-12-20\"\n",
    "\n",
    "inputs, outputs = util.create_time_series(scaled_features_df.values, target)\n",
    "#Split 70/15/15\n",
    "num_samples = inputs.shape[0]\n",
    "train_size = int(0.7 * num_samples)\n",
    "val_size = int(0.15 * num_samples)\n",
    "\n",
    "train_inputs = inputs[:train_size]\n",
    "train_outputs = outputs[:train_size]\n",
    "\n",
    "val_inputs = inputs[train_size : train_size + val_size]\n",
    "val_outputs = outputs[train_size : train_size + val_size]\n",
    "\n",
    "test_inputs = inputs[train_size + val_size :]\n",
    "test_outputs = outputs[train_size + val_size :]\n",
    "\n",
    "\n",
    "#Tensors\n",
    "\n",
    "train_data = torch.tensor(train_inputs, dtype=torch.float32)\n",
    "train_labels = torch.tensor(train_outputs, dtype=torch.float32)\n",
    "validation_data = torch.tensor(val_inputs, dtype=torch.float32)\n",
    "validation_labels = torch.tensor(val_outputs, dtype=torch.float32)\n",
    "test_data = torch.tensor(test_inputs, dtype=torch.float32)\n",
    "test_labels = torch.tensor(test_outputs, dtype=torch.float32)\n",
    "\n",
    "\n"
   ]
  },
  {
   "cell_type": "code",
   "execution_count": 9,
   "metadata": {},
   "outputs": [
    {
     "ename": "TypeError",
     "evalue": "'int' object is not callable",
     "output_type": "error",
     "traceback": [
      "\u001b[1;31m---------------------------------------------------------------------------\u001b[0m",
      "\u001b[1;31mTypeError\u001b[0m                                 Traceback (most recent call last)",
      "Cell \u001b[1;32mIn[9], line 1\u001b[0m\n\u001b[1;32m----> 1\u001b[0m \u001b[43mmodel\u001b[49m\u001b[38;5;241;43m.\u001b[39;49m\u001b[43mtrain_model\u001b[49m\u001b[43m(\u001b[49m\u001b[43mtrain_inputs\u001b[49m\u001b[43m,\u001b[49m\u001b[43m \u001b[49m\u001b[43mtrain_outputs\u001b[49m\u001b[43m,\u001b[49m\u001b[43m \u001b[49m\u001b[43mval_inputs\u001b[49m\u001b[43m,\u001b[49m\u001b[43m \u001b[49m\u001b[43mval_outputs\u001b[49m\u001b[43m)\u001b[49m\n",
      "File \u001b[1;32mc:\\Users\\simon\\projects\\SkalbarML\\Electricity-Price-Forecasting-ML\\Electricity-Price-Forecasting-ML\\model\\nn.py:32\u001b[0m, in \u001b[0;36mEnergyPricePredictorLSTM.train_model\u001b[1;34m(self, train_data, validation_data, labels, validation_labels, epochs, batch_size, learning_rate, patience)\u001b[0m\n\u001b[0;32m     30\u001b[0m \u001b[38;5;28mself\u001b[39m\u001b[38;5;241m.\u001b[39mtrain()\n\u001b[0;32m     31\u001b[0m epoch_train_loss \u001b[38;5;241m=\u001b[39m \u001b[38;5;241m0\u001b[39m\n\u001b[1;32m---> 32\u001b[0m \u001b[38;5;28;01mfor\u001b[39;00m i \u001b[38;5;129;01min\u001b[39;00m \u001b[38;5;28mrange\u001b[39m(\u001b[38;5;241m0\u001b[39m, \u001b[43mtrain_data\u001b[49m\u001b[38;5;241;43m.\u001b[39;49m\u001b[43msize\u001b[49m\u001b[43m(\u001b[49m\u001b[38;5;241;43m0\u001b[39;49m\u001b[43m)\u001b[49m, batch_size):\n\u001b[0;32m     33\u001b[0m     batch_data, batch_labels \u001b[38;5;241m=\u001b[39m train_data[i:i\u001b[38;5;241m+\u001b[39mbatch_size], labels[i:i\u001b[38;5;241m+\u001b[39mbatch_size]\n\u001b[0;32m     34\u001b[0m     optimizer\u001b[38;5;241m.\u001b[39mzero_grad()\n",
      "\u001b[1;31mTypeError\u001b[0m: 'int' object is not callable"
     ]
    }
   ],
   "source": [
    "model.train_model(train_inputs, train_outputs, val_inputs, val_outputs)"
   ]
  },
  {
   "cell_type": "code",
   "execution_count": null,
   "metadata": {},
   "outputs": [],
   "source": [
    "predictions, mse = model.test_model(test_data, test_labels)\n",
    "model.plot_predictions(predictions, test_labels)"
   ]
  },
  {
   "cell_type": "markdown",
   "metadata": {},
   "source": [
    "download model hopswork"
   ]
  },
  {
   "cell_type": "code",
   "execution_count": null,
   "metadata": {},
   "outputs": [],
   "source": []
  }
 ],
 "metadata": {
  "kernelspec": {
   "display_name": "Python 3",
   "language": "python",
   "name": "python3"
  },
  "language_info": {
   "codemirror_mode": {
    "name": "ipython",
    "version": 3
   },
   "file_extension": ".py",
   "mimetype": "text/x-python",
   "name": "python",
   "nbconvert_exporter": "python",
   "pygments_lexer": "ipython3",
   "version": "3.11.2"
  }
 },
 "nbformat": 4,
 "nbformat_minor": 2
}
