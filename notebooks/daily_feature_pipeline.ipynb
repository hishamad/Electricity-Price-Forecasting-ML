{
 "cells": [
  {
   "cell_type": "code",
   "execution_count": 1,
   "metadata": {},
   "outputs": [],
   "source": [
    "\n",
    "import requests\n",
    "import pandas as pd\n",
    "import hopsworks\n",
    "import datetime\n",
    "from datetime import timedelta\n",
    "import matplotlib.pyplot as plt\n",
    "import json\n",
    "import re\n",
    "import os\n",
    "import sys\n",
    "from dotenv import load_dotenv\n",
    "import warnings\n",
    "sys.path.append(os.path.abspath(os.path.join('..', 'functions')))\n",
    "import util\n",
    "\n",
    "warnings.filterwarnings(\"ignore\")"
   ]
  },
  {
   "cell_type": "code",
   "execution_count": null,
   "metadata": {},
   "outputs": [],
   "source": [
    "load_dotenv()\n",
    "proj = hopsworks.login()\n",
    "fs = proj.get_feature_store() "
   ]
  },
  {
   "cell_type": "code",
   "execution_count": null,
   "metadata": {},
   "outputs": [],
   "source": [
    "el_prices_fg = fs.get_feature_group(\n",
    "    name='el_prices',\n",
    "    version=1,\n",
    ")\n",
    "weather_fg = fs.get_feature_group(\n",
    "    name='weather',\n",
    "    version=1,\n",
    ")\n",
    "power_fg = fs.get_feature_group(\n",
    "    name='power',\n",
    "    version=1,\n",
    ")"
   ]
  },
  {
   "cell_type": "code",
   "execution_count": 5,
   "metadata": {},
   "outputs": [
    {
     "data": {
      "text/html": [
       "<div>\n",
       "<style scoped>\n",
       "    .dataframe tbody tr th:only-of-type {\n",
       "        vertical-align: middle;\n",
       "    }\n",
       "\n",
       "    .dataframe tbody tr th {\n",
       "        vertical-align: top;\n",
       "    }\n",
       "\n",
       "    .dataframe thead th {\n",
       "        text-align: right;\n",
       "    }\n",
       "</style>\n",
       "<table border=\"1\" class=\"dataframe\">\n",
       "  <thead>\n",
       "    <tr style=\"text-align: right;\">\n",
       "      <th></th>\n",
       "      <th>price</th>\n",
       "      <th>date</th>\n",
       "    </tr>\n",
       "  </thead>\n",
       "  <tbody>\n",
       "    <tr>\n",
       "      <th>0</th>\n",
       "      <td>0.164415</td>\n",
       "      <td>2024-12-28</td>\n",
       "    </tr>\n",
       "  </tbody>\n",
       "</table>\n",
       "</div>"
      ],
      "text/plain": [
       "      price        date\n",
       "0  0.164415  2024-12-28"
      ]
     },
     "execution_count": 5,
     "metadata": {},
     "output_type": "execute_result"
    }
   ],
   "source": [
    "date = datetime.date.today()\n",
    "yesterday = date - timedelta(days=1)\n",
    "el_price_df = util.get_el_price(yesterday)\n",
    "el_price_df"
   ]
  },
  {
   "cell_type": "code",
   "execution_count": null,
   "metadata": {},
   "outputs": [],
   "source": [
    "el_prices_fg.insert(el_price_df, write_options={\"wait_for_job\": True})"
   ]
  },
  {
   "cell_type": "code",
   "execution_count": 7,
   "metadata": {},
   "outputs": [
    {
     "name": "stdout",
     "output_type": "stream",
     "text": [
      "Coordinates 59.32889938354492°N 18.072357177734375°E\n",
      "Elevation 24.0 m asl\n",
      "Timezone None None\n",
      "Timezone difference to GMT+0 0 s\n",
      "                       date  temperature_2m_max  sunshine_duration  \\\n",
      "0 2024-12-28 00:00:00+00:00            6.163334                0.4   \n",
      "\n",
      "   precipitation_sum  wind_speed_10m_max  wind_direction_10m_dominant  \n",
      "0          16.199999          233.302689                          0.0  \n"
     ]
    },
    {
     "data": {
      "text/html": [
       "<div>\n",
       "<style scoped>\n",
       "    .dataframe tbody tr th:only-of-type {\n",
       "        vertical-align: middle;\n",
       "    }\n",
       "\n",
       "    .dataframe tbody tr th {\n",
       "        vertical-align: top;\n",
       "    }\n",
       "\n",
       "    .dataframe thead th {\n",
       "        text-align: right;\n",
       "    }\n",
       "</style>\n",
       "<table border=\"1\" class=\"dataframe\">\n",
       "  <thead>\n",
       "    <tr style=\"text-align: right;\">\n",
       "      <th></th>\n",
       "      <th>date</th>\n",
       "      <th>temperature_2m_max</th>\n",
       "      <th>sunshine_duration</th>\n",
       "      <th>precipitation_sum</th>\n",
       "      <th>wind_speed_10m_max</th>\n",
       "      <th>wind_direction_10m_dominant</th>\n",
       "    </tr>\n",
       "  </thead>\n",
       "  <tbody>\n",
       "    <tr>\n",
       "      <th>0</th>\n",
       "      <td>2024-12-28 00:00:00+00:00</td>\n",
       "      <td>6.163334</td>\n",
       "      <td>0.4</td>\n",
       "      <td>16.199999</td>\n",
       "      <td>233.302689</td>\n",
       "      <td>0.0</td>\n",
       "    </tr>\n",
       "  </tbody>\n",
       "</table>\n",
       "</div>"
      ],
      "text/plain": [
       "                       date  temperature_2m_max  sunshine_duration  \\\n",
       "0 2024-12-28 00:00:00+00:00            6.163334                0.4   \n",
       "\n",
       "   precipitation_sum  wind_speed_10m_max  wind_direction_10m_dominant  \n",
       "0          16.199999          233.302689                          0.0  "
      ]
     },
     "execution_count": 7,
     "metadata": {},
     "output_type": "execute_result"
    }
   ],
   "source": [
    "latitude = 59.329323\n",
    "longitude = 18.068581\n",
    "\n",
    "weather_data = util.get_daily_weather(1, 0, latitude, longitude)\n",
    "\n",
    "weather_data.head()"
   ]
  },
  {
   "cell_type": "code",
   "execution_count": null,
   "metadata": {},
   "outputs": [],
   "source": [
    "weather_fg.insert(weather_data, write_options={\"wait_for_job\": True})"
   ]
  },
  {
   "cell_type": "code",
   "execution_count": 8,
   "metadata": {},
   "outputs": [
    {
     "name": "stdout",
     "output_type": "stream",
     "text": [
      "Data fetched successfully:\n",
      "      hydro_mw   nuclear_mw    other_mw      wind_mw\n",
      "0  7520.291667  5781.708333  578.541667  7376.416667\n",
      "         date     hydro_mw   nuclear_mw    other_mw      wind_mw\n",
      "0  28.12.2024  7520.291667  5781.708333  578.541667  7376.416667\n"
     ]
    }
   ],
   "source": [
    "load_dotenv()\n",
    "ELECTRICITY_API_TOKEN = os.getenv(\"ELECTRICTY_MAP_API_KEY\")\n",
    "power_data = util.fetch_data_for_yesterday(ELECTRICITY_API_TOKEN)\n",
    "yesterday_formated = yesterday.strftime(\"%d.%m.%Y\")\n",
    "power_data.insert(0, \"date\", yesterday_formated)\n",
    "print(power_data)"
   ]
  },
  {
   "cell_type": "code",
   "execution_count": null,
   "metadata": {},
   "outputs": [],
   "source": [
    "power_fg.insert(power_data, write_options={\"wait_for_job\": True})"
   ]
  },
  {
   "cell_type": "code",
   "execution_count": null,
   "metadata": {},
   "outputs": [
    {
     "name": "stdout",
     "output_type": "stream",
     "text": [
      "Coordinates 59.32889938354492°N 18.072357177734375°E\n",
      "Elevation 24.0 m asl\n",
      "Timezone b'Europe/Berlin' b'CET'\n",
      "Timezone difference to GMT+0 3600 s\n",
      "                       date  temperature_2m_max  sunshine_duration  \\\n",
      "0 2024-12-24 23:00:00+00:00            9.217500           0.000000   \n",
      "1 2024-12-25 23:00:00+00:00            9.117499           0.000000   \n",
      "2 2024-12-26 23:00:00+00:00            7.967500        1492.621582   \n",
      "3 2024-12-27 23:00:00+00:00            6.717500           0.000000   \n",
      "4 2024-12-28 23:00:00+00:00            7.917500           0.000000   \n",
      "5 2024-12-29 23:00:00+00:00            7.667500       13238.261719   \n",
      "6 2024-12-30 23:00:00+00:00            0.917500       13910.627930   \n",
      "\n",
      "   precipitation_sum  wind_speed_10m_max  wind_direction_10m_dominant  \n",
      "0                0.2           20.160000                   240.726639  \n",
      "1                0.0           24.119999                   264.867737  \n",
      "2                3.4           16.919998                   277.060303  \n",
      "3                1.2           16.199999                   234.100662  \n",
      "4                0.0           36.000000                   242.592575  \n",
      "5                4.5           35.639999                   266.952850  \n",
      "6                2.4           19.080000                   245.022369  \n"
     ]
    }
   ],
   "source": []
  }
 ],
 "metadata": {
  "kernelspec": {
   "display_name": "Python 3",
   "language": "python",
   "name": "python3"
  },
  "language_info": {
   "codemirror_mode": {
    "name": "ipython",
    "version": 3
   },
   "file_extension": ".py",
   "mimetype": "text/x-python",
   "name": "python",
   "nbconvert_exporter": "python",
   "pygments_lexer": "ipython3",
   "version": "3.11.2"
  }
 },
 "nbformat": 4,
 "nbformat_minor": 2
}
