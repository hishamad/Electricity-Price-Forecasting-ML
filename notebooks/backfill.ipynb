{
 "cells": [
  {
   "cell_type": "code",
   "execution_count": 1,
   "metadata": {},
   "outputs": [],
   "source": [
    "\n",
    "import requests\n",
    "import pandas as pd\n",
    "import hopsworks\n",
    "import datetime\n",
    "import matplotlib.pyplot as plt\n",
    "import json\n",
    "import re\n",
    "import os\n",
    "import sys\n",
    "from dotenv import load_dotenv\n",
    "from datetime import datetime, timedelta\n",
    "import warnings\n",
    "sys.path.append(os.path.abspath(os.path.join('..', 'functions')))\n",
    "import util\n",
    "\n",
    "warnings.filterwarnings(\"ignore\")"
   ]
  },
  {
   "cell_type": "code",
   "execution_count": 2,
   "metadata": {},
   "outputs": [
    {
     "name": "stdout",
     "output_type": "stream",
     "text": [
      "2024-12-21 17:07:26,182 INFO: Initializing external client\n",
      "2024-12-21 17:07:26,183 INFO: Base URL: https://c.app.hopsworks.ai:443\n",
      "2024-12-21 17:07:27,677 INFO: Python Engine initialized.\n",
      "\n",
      "Logged in to project, explore it here https://c.app.hopsworks.ai:443/p/1164449\n"
     ]
    }
   ],
   "source": [
    "load_dotenv()\n",
    "proj = hopsworks.login()\n",
    "fs = proj.get_feature_store() "
   ]
  },
  {
   "cell_type": "code",
   "execution_count": 5,
   "metadata": {},
   "outputs": [],
   "source": [
    "el_prices_df = pd.read_csv('../data/prices.csv')"
   ]
  },
  {
   "cell_type": "markdown",
   "metadata": {},
   "source": [
    "This DataFrame has already been cleaned"
   ]
  },
  {
   "cell_type": "code",
   "execution_count": 6,
   "metadata": {},
   "outputs": [
    {
     "data": {
      "text/html": [
       "<div>\n",
       "<style scoped>\n",
       "    .dataframe tbody tr th:only-of-type {\n",
       "        vertical-align: middle;\n",
       "    }\n",
       "\n",
       "    .dataframe tbody tr th {\n",
       "        vertical-align: top;\n",
       "    }\n",
       "\n",
       "    .dataframe thead th {\n",
       "        text-align: right;\n",
       "    }\n",
       "</style>\n",
       "<table border=\"1\" class=\"dataframe\">\n",
       "  <thead>\n",
       "    <tr style=\"text-align: right;\">\n",
       "      <th></th>\n",
       "      <th>date</th>\n",
       "      <th>price</th>\n",
       "    </tr>\n",
       "  </thead>\n",
       "  <tbody>\n",
       "    <tr>\n",
       "      <th>0</th>\n",
       "      <td>2022-11-01</td>\n",
       "      <td>0.655705</td>\n",
       "    </tr>\n",
       "    <tr>\n",
       "      <th>1</th>\n",
       "      <td>2022-11-02</td>\n",
       "      <td>0.607735</td>\n",
       "    </tr>\n",
       "    <tr>\n",
       "      <th>2</th>\n",
       "      <td>2022-11-03</td>\n",
       "      <td>0.550615</td>\n",
       "    </tr>\n",
       "    <tr>\n",
       "      <th>3</th>\n",
       "      <td>2022-11-04</td>\n",
       "      <td>0.292413</td>\n",
       "    </tr>\n",
       "    <tr>\n",
       "      <th>4</th>\n",
       "      <td>2022-11-05</td>\n",
       "      <td>0.422040</td>\n",
       "    </tr>\n",
       "  </tbody>\n",
       "</table>\n",
       "</div>"
      ],
      "text/plain": [
       "         date     price\n",
       "0  2022-11-01  0.655705\n",
       "1  2022-11-02  0.607735\n",
       "2  2022-11-03  0.550615\n",
       "3  2022-11-04  0.292413\n",
       "4  2022-11-05  0.422040"
      ]
     },
     "execution_count": 6,
     "metadata": {},
     "output_type": "execute_result"
    }
   ],
   "source": [
    "el_prices_df.head()"
   ]
  },
  {
   "cell_type": "code",
   "execution_count": null,
   "metadata": {},
   "outputs": [],
   "source": [
    "el_prices_fg = fs.get_or_create_feature_group(\n",
    "    name='el_prices',\n",
    "    description='Average electricty price of each day',\n",
    "    version=1,\n",
    "    primary_key=['date'],\n",
    "    event_time=\"date\",\n",
    ")"
   ]
  },
  {
   "cell_type": "code",
   "execution_count": null,
   "metadata": {},
   "outputs": [],
   "source": [
    "el_prices_fg.insert(el_prices_df, write_options={\"wait_for_job\": True})"
   ]
  },
  {
   "cell_type": "code",
   "execution_count": 3,
   "metadata": {},
   "outputs": [
    {
     "name": "stdout",
     "output_type": "stream",
     "text": [
      "Coordinates 59.29701232910156°N 18.163265228271484°E\n",
      "Elevation 24.0 m asl\n",
      "Timezone None None\n",
      "Timezone difference to GMT+0 0 s\n",
      "          date  temperature_2m_mean  precipitation_sum  wind_speed_10m_max  \\\n",
      "0   2022-11-01             8.792083           1.200000           13.202726   \n",
      "1   2022-11-02             9.612916           0.900000           13.276144   \n",
      "2   2022-11-03             8.012917           0.000000           14.777550   \n",
      "3   2022-11-04             8.415000           0.000000           21.578989   \n",
      "4   2022-11-05             7.783750           5.600000           19.376562   \n",
      "..         ...                  ...                ...                 ...   \n",
      "777 2024-12-17             0.998333           0.000000           23.665035   \n",
      "778 2024-12-18             1.227500           5.200000           22.195539   \n",
      "779 2024-12-19             4.194167           2.100000           24.069572   \n",
      "780 2024-12-20             0.140000           0.200000           17.748037   \n",
      "781 2024-12-21             0.971250           6.199999           19.738541   \n",
      "\n",
      "     wind_direction_10m_dominant  sunshine_duration  \n",
      "0                     210.351074           0.000000  \n",
      "1                     187.686081       19597.978516  \n",
      "2                     192.976761       25200.000000  \n",
      "3                     145.680145       22528.138672  \n",
      "4                     158.291138           0.000000  \n",
      "..                           ...                ...  \n",
      "777                   285.209167       13441.726562  \n",
      "778                   187.205170           0.000000  \n",
      "779                   236.131195        1470.378784  \n",
      "780                   283.297974           0.000000  \n",
      "781                   217.053879           0.000000  \n",
      "\n",
      "[782 rows x 6 columns]\n",
      "<class 'pandas.core.frame.DataFrame'>\n",
      "RangeIndex: 783 entries, 0 to 782\n",
      "Data columns (total 5 columns):\n",
      " #   Column                                          Non-Null Count  Dtype  \n",
      "---  ------                                          --------------  -----  \n",
      " 0   Date                                            783 non-null    object \n",
      " 1   Hydro Water Reservoir - Actual Aggregated [MW]  783 non-null    float64\n",
      " 2   Nuclear - Actual Aggregated [MW]                783 non-null    float64\n",
      " 3   Other - Actual Aggregated [MW]                  783 non-null    float64\n",
      " 4   Wind Onshore - Actual Aggregated [MW]           783 non-null    float64\n",
      "dtypes: float64(4), object(1)\n",
      "memory usage: 30.7+ KB\n",
      "            Date  Hydro Water Reservoir - Actual Aggregated [MW]  \\\n",
      "0    \"01.11.2022                                     8805.291667   \n",
      "1    \"01.12.2022                                    11297.375000   \n",
      "2    \"02.11.2022                                     7981.458333   \n",
      "3    \"02.12.2022                                    11041.541667   \n",
      "4    \"03.11.2022                                     7919.166667   \n",
      "..           ...                                             ...   \n",
      "778  \"31.03.2024                                     6949.826087   \n",
      "779  \"31.05.2024                                     8524.625000   \n",
      "780  \"31.07.2024                                     6035.458333   \n",
      "781  \"31.08.2024                                     4316.291667   \n",
      "782  \"31.10.2024                                     8690.500000   \n",
      "\n",
      "     Nuclear - Actual Aggregated [MW]  Other - Actual Aggregated [MW]  \\\n",
      "0                         5699.208333                      897.958333   \n",
      "1                         5742.666667                     1544.708333   \n",
      "2                         5689.541667                      900.416667   \n",
      "3                         5753.958333                     1778.000000   \n",
      "4                         5687.583333                      936.125000   \n",
      "..                                ...                             ...   \n",
      "778                       6895.565217                     1037.608696   \n",
      "779                       5579.208333                      513.708333   \n",
      "780                       6375.791667                      451.083333   \n",
      "781                       5169.958333                      340.166667   \n",
      "782                       5741.083333                      290.083333   \n",
      "\n",
      "     Wind Onshore - Actual Aggregated [MW]  \n",
      "0                              2831.708333  \n",
      "1                               602.208333  \n",
      "2                              4226.875000  \n",
      "3                              1336.625000  \n",
      "4                              4772.708333  \n",
      "..                                     ...  \n",
      "778                            2044.478261  \n",
      "779                            1366.958333  \n",
      "780                            3961.708333  \n",
      "781                            5867.125000  \n",
      "782                            6157.291667  \n",
      "\n",
      "[783 rows x 5 columns]\n"
     ]
    }
   ],
   "source": [
    "load_dotenv()\n",
    "ELECTRICITY_API_TOKEN = os.getenv(\"ELECTRICTY_MAP_API_KEY\")\n",
    "\n",
    "latitude = 59.329323\n",
    "longitude = 18.068581\n",
    "today = datetime.now()\n",
    "start_date = \"2022-11-01\"\n",
    "end_date = \"2024-12-22\"\n",
    "\n",
    "weather_data = util.get_historical_weather(start_date, end_date, latitude, longitude)\n",
    "power_data = util.process_energy_data()\n",
    "\n",
    "\n",
    "print(weather_data)\n",
    "power_data.info()\n",
    "print(power_data)"
   ]
  }
 ],
 "metadata": {
  "kernelspec": {
   "display_name": "Python 3",
   "language": "python",
   "name": "python3"
  },
  "language_info": {
   "codemirror_mode": {
    "name": "ipython",
    "version": 3
   },
   "file_extension": ".py",
   "mimetype": "text/x-python",
   "name": "python",
   "nbconvert_exporter": "python",
   "pygments_lexer": "ipython3",
   "version": "3.11.2"
  }
 },
 "nbformat": 4,
 "nbformat_minor": 2
}
