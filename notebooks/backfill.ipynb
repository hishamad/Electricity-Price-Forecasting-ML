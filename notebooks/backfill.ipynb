{
 "cells": [
  {
   "cell_type": "code",
   "execution_count": 1,
   "metadata": {},
   "outputs": [],
   "source": [
    "\n",
    "import requests\n",
    "import pandas as pd\n",
    "import hopsworks\n",
    "import datetime\n",
    "import matplotlib.pyplot as plt\n",
    "import json\n",
    "import re\n",
    "import os\n",
    "import sys\n",
    "from dotenv import load_dotenv\n",
    "from datetime import datetime, timedelta\n",
    "import warnings\n",
    "sys.path.append(os.path.abspath(os.path.join('..', 'functions')))\n",
    "import util\n",
    "\n",
    "warnings.filterwarnings(\"ignore\")"
   ]
  },
  {
   "cell_type": "code",
   "execution_count": 2,
   "metadata": {},
   "outputs": [
    {
     "name": "stdout",
     "output_type": "stream",
     "text": [
      "2024-12-23 13:33:57,767 INFO: Initializing external client\n",
      "2024-12-23 13:33:57,768 INFO: Base URL: https://c.app.hopsworks.ai:443\n",
      "2024-12-23 13:33:59,160 INFO: Python Engine initialized.\n",
      "\n",
      "Logged in to project, explore it here https://c.app.hopsworks.ai:443/p/1164449\n"
     ]
    }
   ],
   "source": [
    "load_dotenv()\n",
    "proj = hopsworks.login()\n",
    "fs = proj.get_feature_store() "
   ]
  },
  {
   "cell_type": "code",
   "execution_count": 3,
   "metadata": {},
   "outputs": [],
   "source": [
    "el_prices_df = pd.read_csv('../data/prices.csv')"
   ]
  },
  {
   "cell_type": "markdown",
   "metadata": {},
   "source": [
    "This DataFrame has already been cleaned"
   ]
  },
  {
   "cell_type": "code",
   "execution_count": 4,
   "metadata": {},
   "outputs": [
    {
     "data": {
      "text/html": [
       "<div>\n",
       "<style scoped>\n",
       "    .dataframe tbody tr th:only-of-type {\n",
       "        vertical-align: middle;\n",
       "    }\n",
       "\n",
       "    .dataframe tbody tr th {\n",
       "        vertical-align: top;\n",
       "    }\n",
       "\n",
       "    .dataframe thead th {\n",
       "        text-align: right;\n",
       "    }\n",
       "</style>\n",
       "<table border=\"1\" class=\"dataframe\">\n",
       "  <thead>\n",
       "    <tr style=\"text-align: right;\">\n",
       "      <th></th>\n",
       "      <th>date</th>\n",
       "      <th>price</th>\n",
       "    </tr>\n",
       "  </thead>\n",
       "  <tbody>\n",
       "    <tr>\n",
       "      <th>0</th>\n",
       "      <td>2022-11-01</td>\n",
       "      <td>0.655705</td>\n",
       "    </tr>\n",
       "    <tr>\n",
       "      <th>1</th>\n",
       "      <td>2022-11-02</td>\n",
       "      <td>0.607735</td>\n",
       "    </tr>\n",
       "    <tr>\n",
       "      <th>2</th>\n",
       "      <td>2022-11-03</td>\n",
       "      <td>0.550615</td>\n",
       "    </tr>\n",
       "    <tr>\n",
       "      <th>3</th>\n",
       "      <td>2022-11-04</td>\n",
       "      <td>0.292413</td>\n",
       "    </tr>\n",
       "    <tr>\n",
       "      <th>4</th>\n",
       "      <td>2022-11-05</td>\n",
       "      <td>0.422040</td>\n",
       "    </tr>\n",
       "  </tbody>\n",
       "</table>\n",
       "</div>"
      ],
      "text/plain": [
       "         date     price\n",
       "0  2022-11-01  0.655705\n",
       "1  2022-11-02  0.607735\n",
       "2  2022-11-03  0.550615\n",
       "3  2022-11-04  0.292413\n",
       "4  2022-11-05  0.422040"
      ]
     },
     "execution_count": 4,
     "metadata": {},
     "output_type": "execute_result"
    }
   ],
   "source": [
    "el_prices_df.head()"
   ]
  },
  {
   "cell_type": "code",
   "execution_count": 5,
   "metadata": {},
   "outputs": [
    {
     "name": "stdout",
     "output_type": "stream",
     "text": [
      "<class 'pandas.core.frame.DataFrame'>\n",
      "RangeIndex: 781 entries, 0 to 780\n",
      "Data columns (total 2 columns):\n",
      " #   Column  Non-Null Count  Dtype         \n",
      "---  ------  --------------  -----         \n",
      " 0   date    781 non-null    datetime64[ns]\n",
      " 1   price   781 non-null    float64       \n",
      "dtypes: datetime64[ns](1), float64(1)\n",
      "memory usage: 12.3 KB\n"
     ]
    }
   ],
   "source": [
    "el_prices_df[\"date\"] = pd.to_datetime(el_prices_df[\"date\"])\n",
    "el_prices_df.info()"
   ]
  },
  {
   "cell_type": "code",
   "execution_count": 6,
   "metadata": {},
   "outputs": [],
   "source": [
    "el_prices_fg = fs.get_or_create_feature_group(\n",
    "    name='el_prices',\n",
    "    description='Average electricty price of each day',\n",
    "    version=1,\n",
    "    primary_key=['date'],\n",
    "    event_time=\"date\",\n",
    ")"
   ]
  },
  {
   "cell_type": "code",
   "execution_count": 7,
   "metadata": {},
   "outputs": [
    {
     "name": "stdout",
     "output_type": "stream",
     "text": [
      "Coordinates 59.29701232910156°N 18.163265228271484°E\n",
      "Elevation 24.0 m asl\n",
      "Timezone None None\n",
      "Timezone difference to GMT+0 0 s\n"
     ]
    },
    {
     "data": {
      "text/html": [
       "<div>\n",
       "<style scoped>\n",
       "    .dataframe tbody tr th:only-of-type {\n",
       "        vertical-align: middle;\n",
       "    }\n",
       "\n",
       "    .dataframe tbody tr th {\n",
       "        vertical-align: top;\n",
       "    }\n",
       "\n",
       "    .dataframe thead th {\n",
       "        text-align: right;\n",
       "    }\n",
       "</style>\n",
       "<table border=\"1\" class=\"dataframe\">\n",
       "  <thead>\n",
       "    <tr style=\"text-align: right;\">\n",
       "      <th></th>\n",
       "      <th>date</th>\n",
       "      <th>temperature_2m_mean</th>\n",
       "      <th>precipitation_sum</th>\n",
       "      <th>wind_speed_10m_max</th>\n",
       "      <th>wind_direction_10m_dominant</th>\n",
       "      <th>sunshine_duration</th>\n",
       "    </tr>\n",
       "  </thead>\n",
       "  <tbody>\n",
       "    <tr>\n",
       "      <th>0</th>\n",
       "      <td>2022-11-01</td>\n",
       "      <td>8.792083</td>\n",
       "      <td>1.2</td>\n",
       "      <td>13.202726</td>\n",
       "      <td>210.351074</td>\n",
       "      <td>0.000000</td>\n",
       "    </tr>\n",
       "    <tr>\n",
       "      <th>1</th>\n",
       "      <td>2022-11-02</td>\n",
       "      <td>9.612916</td>\n",
       "      <td>0.9</td>\n",
       "      <td>13.276144</td>\n",
       "      <td>187.686081</td>\n",
       "      <td>19597.978516</td>\n",
       "    </tr>\n",
       "    <tr>\n",
       "      <th>2</th>\n",
       "      <td>2022-11-03</td>\n",
       "      <td>8.012917</td>\n",
       "      <td>0.0</td>\n",
       "      <td>14.777550</td>\n",
       "      <td>192.976761</td>\n",
       "      <td>25200.000000</td>\n",
       "    </tr>\n",
       "    <tr>\n",
       "      <th>3</th>\n",
       "      <td>2022-11-04</td>\n",
       "      <td>8.415000</td>\n",
       "      <td>0.0</td>\n",
       "      <td>21.578989</td>\n",
       "      <td>145.680145</td>\n",
       "      <td>22528.138672</td>\n",
       "    </tr>\n",
       "    <tr>\n",
       "      <th>4</th>\n",
       "      <td>2022-11-05</td>\n",
       "      <td>7.783750</td>\n",
       "      <td>5.6</td>\n",
       "      <td>19.376562</td>\n",
       "      <td>158.291138</td>\n",
       "      <td>0.000000</td>\n",
       "    </tr>\n",
       "  </tbody>\n",
       "</table>\n",
       "</div>"
      ],
      "text/plain": [
       "        date  temperature_2m_mean  precipitation_sum  wind_speed_10m_max  \\\n",
       "0 2022-11-01             8.792083                1.2           13.202726   \n",
       "1 2022-11-02             9.612916                0.9           13.276144   \n",
       "2 2022-11-03             8.012917                0.0           14.777550   \n",
       "3 2022-11-04             8.415000                0.0           21.578989   \n",
       "4 2022-11-05             7.783750                5.6           19.376562   \n",
       "\n",
       "   wind_direction_10m_dominant  sunshine_duration  \n",
       "0                   210.351074           0.000000  \n",
       "1                   187.686081       19597.978516  \n",
       "2                   192.976761       25200.000000  \n",
       "3                   145.680145       22528.138672  \n",
       "4                   158.291138           0.000000  "
      ]
     },
     "execution_count": 7,
     "metadata": {},
     "output_type": "execute_result"
    }
   ],
   "source": [
    "load_dotenv()\n",
    "ELECTRICITY_API_TOKEN = os.getenv(\"ELECTRICTY_MAP_API_KEY\")\n",
    "\n",
    "latitude = 59.329323\n",
    "longitude = 18.068581\n",
    "today = datetime.now()\n",
    "start_date = \"2022-11-01\"\n",
    "end_date = \"2024-12-20\"\n",
    "\n",
    "weather_data = util.get_historical_weather(start_date, end_date, latitude, longitude)\n",
    "\n",
    "weather_data.head()"
   ]
  },
  {
   "cell_type": "code",
   "execution_count": 8,
   "metadata": {},
   "outputs": [
    {
     "name": "stdout",
     "output_type": "stream",
     "text": [
      "<class 'pandas.core.frame.DataFrame'>\n",
      "RangeIndex: 781 entries, 0 to 780\n",
      "Data columns (total 6 columns):\n",
      " #   Column                       Non-Null Count  Dtype         \n",
      "---  ------                       --------------  -----         \n",
      " 0   date                         781 non-null    datetime64[ns]\n",
      " 1   temperature_2m_mean          781 non-null    float32       \n",
      " 2   precipitation_sum            781 non-null    float32       \n",
      " 3   wind_speed_10m_max           781 non-null    float32       \n",
      " 4   wind_direction_10m_dominant  781 non-null    float32       \n",
      " 5   sunshine_duration            781 non-null    float32       \n",
      "dtypes: datetime64[ns](1), float32(5)\n",
      "memory usage: 21.5 KB\n"
     ]
    }
   ],
   "source": [
    "weather_data.info()"
   ]
  },
  {
   "cell_type": "code",
   "execution_count": 9,
   "metadata": {},
   "outputs": [],
   "source": [
    "weather_fg = fs.get_or_create_feature_group(\n",
    "    name='weather',\n",
    "    description='Weather characteristics of each day',\n",
    "    version=1,\n",
    "    primary_key=['date'],\n",
    "    event_time=\"date\",\n",
    ") "
   ]
  },
  {
   "cell_type": "code",
   "execution_count": 10,
   "metadata": {},
   "outputs": [
    {
     "data": {
      "text/html": [
       "<div>\n",
       "<style scoped>\n",
       "    .dataframe tbody tr th:only-of-type {\n",
       "        vertical-align: middle;\n",
       "    }\n",
       "\n",
       "    .dataframe tbody tr th {\n",
       "        vertical-align: top;\n",
       "    }\n",
       "\n",
       "    .dataframe thead th {\n",
       "        text-align: right;\n",
       "    }\n",
       "</style>\n",
       "<table border=\"1\" class=\"dataframe\">\n",
       "  <thead>\n",
       "    <tr style=\"text-align: right;\">\n",
       "      <th></th>\n",
       "      <th>date</th>\n",
       "      <th>hydro_mw</th>\n",
       "      <th>nuclear_mw</th>\n",
       "      <th>other_mw</th>\n",
       "      <th>wind_mw</th>\n",
       "    </tr>\n",
       "  </thead>\n",
       "  <tbody>\n",
       "    <tr>\n",
       "      <th>0</th>\n",
       "      <td>\"01.11.2022</td>\n",
       "      <td>8805.291667</td>\n",
       "      <td>5699.208333</td>\n",
       "      <td>897.958333</td>\n",
       "      <td>2831.708333</td>\n",
       "    </tr>\n",
       "    <tr>\n",
       "      <th>1</th>\n",
       "      <td>\"01.12.2022</td>\n",
       "      <td>11297.375000</td>\n",
       "      <td>5742.666667</td>\n",
       "      <td>1544.708333</td>\n",
       "      <td>602.208333</td>\n",
       "    </tr>\n",
       "    <tr>\n",
       "      <th>2</th>\n",
       "      <td>\"02.11.2022</td>\n",
       "      <td>7981.458333</td>\n",
       "      <td>5689.541667</td>\n",
       "      <td>900.416667</td>\n",
       "      <td>4226.875000</td>\n",
       "    </tr>\n",
       "    <tr>\n",
       "      <th>3</th>\n",
       "      <td>\"02.12.2022</td>\n",
       "      <td>11041.541667</td>\n",
       "      <td>5753.958333</td>\n",
       "      <td>1778.000000</td>\n",
       "      <td>1336.625000</td>\n",
       "    </tr>\n",
       "    <tr>\n",
       "      <th>4</th>\n",
       "      <td>\"03.11.2022</td>\n",
       "      <td>7919.166667</td>\n",
       "      <td>5687.583333</td>\n",
       "      <td>936.125000</td>\n",
       "      <td>4772.708333</td>\n",
       "    </tr>\n",
       "  </tbody>\n",
       "</table>\n",
       "</div>"
      ],
      "text/plain": [
       "          date      hydro_mw   nuclear_mw     other_mw      wind_mw\n",
       "0  \"01.11.2022   8805.291667  5699.208333   897.958333  2831.708333\n",
       "1  \"01.12.2022  11297.375000  5742.666667  1544.708333   602.208333\n",
       "2  \"02.11.2022   7981.458333  5689.541667   900.416667  4226.875000\n",
       "3  \"02.12.2022  11041.541667  5753.958333  1778.000000  1336.625000\n",
       "4  \"03.11.2022   7919.166667  5687.583333   936.125000  4772.708333"
      ]
     },
     "execution_count": 10,
     "metadata": {},
     "output_type": "execute_result"
    }
   ],
   "source": [
    "power_data = util.process_energy_data()\n",
    "power_data.rename(columns={\"Date\": \"date\",\n",
    "                           \"Hydro Water Reservoir - Actual Aggregated [MW]\": \"hydro_mw\",\n",
    "                           \"Nuclear - Actual Aggregated [MW]\": \"nuclear_mw\",\n",
    "                           \"Other - Actual Aggregated [MW]\": \"other_mw\",\n",
    "                           \"Wind Onshore - Actual Aggregated [MW]\": \"wind_mw\"}, inplace=True)\n",
    "power_data.head()"
   ]
  },
  {
   "cell_type": "code",
   "execution_count": 11,
   "metadata": {},
   "outputs": [
    {
     "data": {
      "text/html": [
       "<div>\n",
       "<style scoped>\n",
       "    .dataframe tbody tr th:only-of-type {\n",
       "        vertical-align: middle;\n",
       "    }\n",
       "\n",
       "    .dataframe tbody tr th {\n",
       "        vertical-align: top;\n",
       "    }\n",
       "\n",
       "    .dataframe thead th {\n",
       "        text-align: right;\n",
       "    }\n",
       "</style>\n",
       "<table border=\"1\" class=\"dataframe\">\n",
       "  <thead>\n",
       "    <tr style=\"text-align: right;\">\n",
       "      <th></th>\n",
       "      <th>date</th>\n",
       "      <th>hydro_mw</th>\n",
       "      <th>nuclear_mw</th>\n",
       "      <th>other_mw</th>\n",
       "      <th>wind_mw</th>\n",
       "    </tr>\n",
       "  </thead>\n",
       "  <tbody>\n",
       "    <tr>\n",
       "      <th>0</th>\n",
       "      <td>2022-11-01</td>\n",
       "      <td>8805.291667</td>\n",
       "      <td>5699.208333</td>\n",
       "      <td>897.958333</td>\n",
       "      <td>2831.708333</td>\n",
       "    </tr>\n",
       "    <tr>\n",
       "      <th>2</th>\n",
       "      <td>2022-11-02</td>\n",
       "      <td>7981.458333</td>\n",
       "      <td>5689.541667</td>\n",
       "      <td>900.416667</td>\n",
       "      <td>4226.875000</td>\n",
       "    </tr>\n",
       "    <tr>\n",
       "      <th>4</th>\n",
       "      <td>2022-11-03</td>\n",
       "      <td>7919.166667</td>\n",
       "      <td>5687.583333</td>\n",
       "      <td>936.125000</td>\n",
       "      <td>4772.708333</td>\n",
       "    </tr>\n",
       "    <tr>\n",
       "      <th>6</th>\n",
       "      <td>2022-11-04</td>\n",
       "      <td>6796.166667</td>\n",
       "      <td>5695.333333</td>\n",
       "      <td>885.875000</td>\n",
       "      <td>5641.333333</td>\n",
       "    </tr>\n",
       "    <tr>\n",
       "      <th>8</th>\n",
       "      <td>2022-11-05</td>\n",
       "      <td>6761.166667</td>\n",
       "      <td>5699.083333</td>\n",
       "      <td>773.583333</td>\n",
       "      <td>6008.166667</td>\n",
       "    </tr>\n",
       "  </tbody>\n",
       "</table>\n",
       "</div>"
      ],
      "text/plain": [
       "        date     hydro_mw   nuclear_mw    other_mw      wind_mw\n",
       "0 2022-11-01  8805.291667  5699.208333  897.958333  2831.708333\n",
       "2 2022-11-02  7981.458333  5689.541667  900.416667  4226.875000\n",
       "4 2022-11-03  7919.166667  5687.583333  936.125000  4772.708333\n",
       "6 2022-11-04  6796.166667  5695.333333  885.875000  5641.333333\n",
       "8 2022-11-05  6761.166667  5699.083333  773.583333  6008.166667"
      ]
     },
     "execution_count": 11,
     "metadata": {},
     "output_type": "execute_result"
    }
   ],
   "source": [
    "power_data[\"date\"] = power_data[\"date\"].str.strip('\"')\n",
    "power_data[\"date\"] = pd.to_datetime(power_data[\"date\"], format=\"%d.%m.%Y\")\n",
    "power_data.sort_values(by=\"date\", inplace=True)\n",
    "power_data.head()"
   ]
  },
  {
   "cell_type": "code",
   "execution_count": 12,
   "metadata": {},
   "outputs": [
    {
     "name": "stdout",
     "output_type": "stream",
     "text": [
      "<class 'pandas.core.frame.DataFrame'>\n",
      "Index: 781 entries, 0 to 665\n",
      "Data columns (total 5 columns):\n",
      " #   Column      Non-Null Count  Dtype         \n",
      "---  ------      --------------  -----         \n",
      " 0   date        781 non-null    datetime64[ns]\n",
      " 1   hydro_mw    781 non-null    float64       \n",
      " 2   nuclear_mw  781 non-null    float64       \n",
      " 3   other_mw    781 non-null    float64       \n",
      " 4   wind_mw     781 non-null    float64       \n",
      "dtypes: datetime64[ns](1), float64(4)\n",
      "memory usage: 36.6 KB\n"
     ]
    }
   ],
   "source": [
    "power_data = power_data.iloc[:-2]\n",
    "power_data.info()"
   ]
  },
  {
   "cell_type": "code",
   "execution_count": 13,
   "metadata": {},
   "outputs": [],
   "source": [
    "power_fg = fs.get_or_create_feature_group(\n",
    "    name='power',\n",
    "    description='Power generation by source',\n",
    "    version=1,\n",
    "    primary_key=['date'],\n",
    "    event_time=\"date\",\n",
    ") "
   ]
  },
  {
   "cell_type": "code",
   "execution_count": 14,
   "metadata": {},
   "outputs": [
    {
     "name": "stdout",
     "output_type": "stream",
     "text": [
      "Feature Group created successfully, explore it at \n",
      "https://c.app.hopsworks.ai:443/p/1164449/fs/1155152/fg/1393149\n"
     ]
    },
    {
     "name": "stderr",
     "output_type": "stream",
     "text": [
      "Uploading Dataframe: 100.00% |██████████| Rows 781/781 | Elapsed Time: 00:02 | Remaining Time: 00:00\n"
     ]
    },
    {
     "name": "stdout",
     "output_type": "stream",
     "text": [
      "Launching job: el_prices_1_offline_fg_materialization\n",
      "Job started successfully, you can follow the progress at \n",
      "https://c.app.hopsworks.ai:443/p/1164449/jobs/named/el_prices_1_offline_fg_materialization/executions\n",
      "2024-12-23 13:34:20,344 INFO: Waiting for execution to finish. Current state: SUBMITTED. Final status: UNDEFINED\n",
      "2024-12-23 13:34:23,516 INFO: Waiting for execution to finish. Current state: RUNNING. Final status: UNDEFINED\n",
      "2024-12-23 13:36:47,723 INFO: Waiting for execution to finish. Current state: SUCCEEDING. Final status: UNDEFINED\n",
      "2024-12-23 13:36:50,888 INFO: Waiting for execution to finish. Current state: AGGREGATING_LOGS. Final status: SUCCEEDED\n",
      "2024-12-23 13:36:51,043 INFO: Waiting for log aggregation to finish.\n",
      "2024-12-23 13:37:09,783 INFO: Execution finished successfully.\n",
      "2024-12-23 13:37:09,784 INFO: Materialisation job was not scheduled.\n",
      "Feature Group created successfully, explore it at \n",
      "https://c.app.hopsworks.ai:443/p/1164449/fs/1155152/fg/1393150\n"
     ]
    },
    {
     "name": "stderr",
     "output_type": "stream",
     "text": [
      "Uploading Dataframe: 100.00% |██████████| Rows 781/781 | Elapsed Time: 00:01 | Remaining Time: 00:00\n"
     ]
    },
    {
     "name": "stdout",
     "output_type": "stream",
     "text": [
      "Launching job: weather_1_offline_fg_materialization\n",
      "Job started successfully, you can follow the progress at \n",
      "https://c.app.hopsworks.ai:443/p/1164449/jobs/named/weather_1_offline_fg_materialization/executions\n",
      "2024-12-23 13:37:25,410 INFO: Waiting for execution to finish. Current state: SUBMITTED. Final status: UNDEFINED\n",
      "2024-12-23 13:37:28,579 INFO: Waiting for execution to finish. Current state: RUNNING. Final status: UNDEFINED\n",
      "2024-12-23 13:39:29,857 INFO: Waiting for execution to finish. Current state: AGGREGATING_LOGS. Final status: SUCCEEDED\n",
      "2024-12-23 13:39:30,010 INFO: Waiting for log aggregation to finish.\n",
      "2024-12-23 13:39:55,270 INFO: Execution finished successfully.\n",
      "Feature Group created successfully, explore it at \n",
      "https://c.app.hopsworks.ai:443/p/1164449/fs/1155152/fg/1393152\n"
     ]
    },
    {
     "name": "stderr",
     "output_type": "stream",
     "text": [
      "Uploading Dataframe: 100.00% |██████████| Rows 781/781 | Elapsed Time: 00:01 | Remaining Time: 00:00\n"
     ]
    },
    {
     "name": "stdout",
     "output_type": "stream",
     "text": [
      "Launching job: power_1_offline_fg_materialization\n",
      "Job started successfully, you can follow the progress at \n",
      "https://c.app.hopsworks.ai:443/p/1164449/jobs/named/power_1_offline_fg_materialization/executions\n",
      "2024-12-23 13:40:11,349 INFO: Waiting for execution to finish. Current state: SUBMITTED. Final status: UNDEFINED\n",
      "2024-12-23 13:40:14,548 INFO: Waiting for execution to finish. Current state: RUNNING. Final status: UNDEFINED\n",
      "2024-12-23 13:42:06,194 INFO: Waiting for execution to finish. Current state: AGGREGATING_LOGS. Final status: SUCCEEDED\n",
      "2024-12-23 13:42:06,358 INFO: Waiting for log aggregation to finish.\n",
      "2024-12-23 13:42:28,237 INFO: Execution finished successfully.\n"
     ]
    },
    {
     "data": {
      "text/plain": [
       "(Job('power_1_offline_fg_materialization', 'SPARK'), None)"
      ]
     },
     "execution_count": 14,
     "metadata": {},
     "output_type": "execute_result"
    }
   ],
   "source": [
    "el_prices_fg.insert(el_prices_df, write_options={\"wait_for_job\": True})\n",
    "weather_fg.insert(weather_data, write_options={\"wait_for_job\": True})\n",
    "power_fg.insert(power_data, write_options={\"wait_for_job\": True})"
   ]
  }
 ],
 "metadata": {
  "kernelspec": {
   "display_name": "Python 3",
   "language": "python",
   "name": "python3"
  },
  "language_info": {
   "codemirror_mode": {
    "name": "ipython",
    "version": 3
   },
   "file_extension": ".py",
   "mimetype": "text/x-python",
   "name": "python",
   "nbconvert_exporter": "python",
   "pygments_lexer": "ipython3",
   "version": "3.11.2"
  }
 },
 "nbformat": 4,
 "nbformat_minor": 2
}
